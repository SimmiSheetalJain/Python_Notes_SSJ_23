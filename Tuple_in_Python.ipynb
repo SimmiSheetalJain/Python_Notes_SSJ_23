{
 "cells": [
  {
   "cell_type": "markdown",
   "id": "57011e3b",
   "metadata": {},
   "source": [
    "# Tuple "
   ]
  },
  {
   "cell_type": "markdown",
   "id": "09ddf07a",
   "metadata": {},
   "source": [
    "## Major difference between list and tuple:"
   ]
  },
  {
   "cell_type": "markdown",
   "id": "6dde5189",
   "metadata": {},
   "source": [
    "1. Tuple is defined using '( )' brackets while list is defined using '[ ]' brackets\n",
    "2. Tuple is immutable while list is mutable.\n",
    "3. Tuple is faster in terms of execution while list is slower.\n",
    "4. Tuple consumes less memory space while list consumes more memory space."
   ]
  },
  {
   "cell_type": "markdown",
   "id": "af402cb4",
   "metadata": {},
   "source": [
    "#### How to define a tuple: "
   ]
  },
  {
   "cell_type": "markdown",
   "id": "aeb3a01b",
   "metadata": {},
   "source": [
    "E.G:"
   ]
  },
  {
   "cell_type": "code",
   "execution_count": 2,
   "id": "4a5a211d",
   "metadata": {},
   "outputs": [],
   "source": [
    "my_tuple = (11463, \"Sheetal Jain\", 405, \"81%\")"
   ]
  },
  {
   "cell_type": "markdown",
   "id": "8d6f3488",
   "metadata": {},
   "source": [
    "#### Printing elements of tuple:"
   ]
  },
  {
   "cell_type": "markdown",
   "id": "7d5ac74e",
   "metadata": {},
   "source": [
    "###### Elements of tuple are accessed in the same way as the list elements are accessd"
   ]
  },
  {
   "cell_type": "code",
   "execution_count": 4,
   "id": "8090d77f",
   "metadata": {},
   "outputs": [
    {
     "name": "stdout",
     "output_type": "stream",
     "text": [
      "11463\n",
      "Sheetal Jain\n",
      "405\n",
      "81%\n"
     ]
    }
   ],
   "source": [
    "for x in my_tuple:\n",
    "    print(x)"
   ]
  },
  {
   "cell_type": "markdown",
   "id": "1046e240",
   "metadata": {},
   "source": [
    "## What happens when a sinlgle element is passed in tuple:"
   ]
  },
  {
   "cell_type": "markdown",
   "id": "ea823260",
   "metadata": {},
   "source": [
    "When a single element is passed in tuple, it defines data type of tuple as the type of the data of that single element."
   ]
  },
  {
   "cell_type": "markdown",
   "id": "457282a3",
   "metadata": {},
   "source": [
    "E.G: "
   ]
  },
  {
   "cell_type": "code",
   "execution_count": 6,
   "id": "5e424724",
   "metadata": {},
   "outputs": [
    {
     "data": {
      "text/plain": [
       "int"
      ]
     },
     "execution_count": 6,
     "metadata": {},
     "output_type": "execute_result"
    }
   ],
   "source": [
    "t = (10)\n",
    "type(t)"
   ]
  },
  {
   "cell_type": "markdown",
   "id": "ec5f08df",
   "metadata": {},
   "source": [
    "As it can be seen the type of 't' is 'int'. To get rid of this, and to define 't' as tuple write a comman after that single."
   ]
  },
  {
   "cell_type": "markdown",
   "id": "76fd793e",
   "metadata": {},
   "source": [
    "E.G.:"
   ]
  },
  {
   "cell_type": "markdown",
   "id": "fca73737",
   "metadata": {},
   "source": [
    "t = (10,)\n",
    "type(t)"
   ]
  },
  {
   "cell_type": "markdown",
   "id": "182bd3e9",
   "metadata": {},
   "source": [
    "## Concept of packing and unpacking"
   ]
  },
  {
   "cell_type": "markdown",
   "id": "dff4f751",
   "metadata": {},
   "source": [
    "##### If we are assigning multiple values to  a variable by separing with a ',' (comma), the data of variable will be tuple. This way of assigning multiple value is called packing."
   ]
  },
  {
   "cell_type": "markdown",
   "id": "959c7b70",
   "metadata": {},
   "source": [
    "E.G.:"
   ]
  },
  {
   "cell_type": "code",
   "execution_count": 11,
   "id": "7065a1b6",
   "metadata": {},
   "outputs": [
    {
     "name": "stdout",
     "output_type": "stream",
     "text": [
      "<class 'tuple'>\n",
      "(23, 45, 576, 563)\n"
     ]
    }
   ],
   "source": [
    "a=23,45,576,563\n",
    "print(type(a))\n",
    "print(a)"
   ]
  },
  {
   "cell_type": "markdown",
   "id": "a4f51f04",
   "metadata": {},
   "source": [
    "As it can be seen, we have packed many values in variable a, and it's date type is 'tuple'."
   ]
  },
  {
   "cell_type": "markdown",
   "id": "ac7badbb",
   "metadata": {},
   "source": [
    "##### When we are accesing these values using other variables in the following way:"
   ]
  },
  {
   "cell_type": "code",
   "execution_count": 12,
   "id": "5e2f83a3",
   "metadata": {},
   "outputs": [
    {
     "name": "stdout",
     "output_type": "stream",
     "text": [
      "23,45,576,563\n"
     ]
    }
   ],
   "source": [
    "w,x,y,z=a\n",
    "print(\"{},{},{},{}\".format(w,x,y,z))"
   ]
  },
  {
   "cell_type": "markdown",
   "id": "c0e73b11",
   "metadata": {},
   "source": [
    "###### Then, it is called unpacking. "
   ]
  },
  {
   "cell_type": "markdown",
   "id": "1b80cacd",
   "metadata": {},
   "source": [
    "## Immutability"
   ]
  },
  {
   "cell_type": "markdown",
   "id": "8e5514b8",
   "metadata": {},
   "source": [
    "We can change entire tuple at once:\n",
    "E.G.:"
   ]
  },
  {
   "cell_type": "code",
   "execution_count": 2,
   "id": "39eb8569",
   "metadata": {},
   "outputs": [
    {
     "name": "stdout",
     "output_type": "stream",
     "text": [
      "100\n",
      "200\n",
      "300\n",
      "400\n",
      "500\n"
     ]
    }
   ],
   "source": [
    "t3=(100,200,300,400,500)\n",
    "for x in t3:\n",
    "    print(x)"
   ]
  },
  {
   "cell_type": "code",
   "execution_count": 3,
   "id": "cecbf930",
   "metadata": {},
   "outputs": [
    {
     "name": "stdout",
     "output_type": "stream",
     "text": [
      "1\n",
      "2\n",
      "3\n",
      "4\n",
      "5\n"
     ]
    }
   ],
   "source": [
    "t3=(1,2,3,4,5)\n",
    "for x in t3:\n",
    "    print(x)"
   ]
  },
  {
   "cell_type": "markdown",
   "id": "6601e99e",
   "metadata": {},
   "source": [
    "Here, we can see entire data of tuple t3 has gotten changed. Actually, data hasn't been chnaged, in the previous cell, t3 is refering to data (100,200,300,400,500) while in the next cell now, reference of t3 has gotten changed. Now, t3 is refering to data (1,2,3,4,5)"
   ]
  },
  {
   "cell_type": "markdown",
   "id": "59e23276",
   "metadata": {},
   "source": [
    "In this way we can change entire data of tuple but we cannot perform any change on the elements of a tuple as tuple is an immutable sequence of elements."
   ]
  },
  {
   "cell_type": "markdown",
   "id": "602a4fb7",
   "metadata": {},
   "source": [
    "E.G.:"
   ]
  },
  {
   "cell_type": "code",
   "execution_count": 17,
   "id": "82857ef3",
   "metadata": {},
   "outputs": [],
   "source": [
    "t1 = (1,2,3,4,5)"
   ]
  },
  {
   "cell_type": "code",
   "execution_count": 16,
   "id": "8543f233",
   "metadata": {},
   "outputs": [
    {
     "ename": "TypeError",
     "evalue": "'tuple' object does not support item assignment",
     "output_type": "error",
     "traceback": [
      "\u001b[1;31m---------------------------------------------------------------------------\u001b[0m",
      "\u001b[1;31mTypeError\u001b[0m                                 Traceback (most recent call last)",
      "Cell \u001b[1;32mIn[16], line 1\u001b[0m\n\u001b[1;32m----> 1\u001b[0m t1[\u001b[38;5;241m1\u001b[39m]\u001b[38;5;241m=\u001b[39m\u001b[38;5;241m10\u001b[39m\n",
      "\u001b[1;31mTypeError\u001b[0m: 'tuple' object does not support item assignment"
     ]
    }
   ],
   "source": [
    "t1[1]=10"
   ]
  },
  {
   "cell_type": "markdown",
   "id": "ac6ddcc1",
   "metadata": {},
   "source": [
    "##### But element of a list nested inside a tuple can be changed"
   ]
  },
  {
   "cell_type": "markdown",
   "id": "e653f398",
   "metadata": {},
   "source": [
    "E.G.:"
   ]
  },
  {
   "cell_type": "code",
   "execution_count": 18,
   "id": "6f7782ad",
   "metadata": {},
   "outputs": [],
   "source": [
    "t2=(1,2,3,[10,11,12],\"Sheetal\")"
   ]
  },
  {
   "cell_type": "code",
   "execution_count": 19,
   "id": "fbd3968f",
   "metadata": {},
   "outputs": [
    {
     "data": {
      "text/plain": [
       "11"
      ]
     },
     "execution_count": 19,
     "metadata": {},
     "output_type": "execute_result"
    }
   ],
   "source": [
    "t2[3][1]"
   ]
  },
  {
   "cell_type": "code",
   "execution_count": 20,
   "id": "f5583d25",
   "metadata": {},
   "outputs": [],
   "source": [
    "t2[3][1]=1101"
   ]
  },
  {
   "cell_type": "code",
   "execution_count": 21,
   "id": "d1a509b2",
   "metadata": {},
   "outputs": [
    {
     "data": {
      "text/plain": [
       "1101"
      ]
     },
     "execution_count": 21,
     "metadata": {},
     "output_type": "execute_result"
    }
   ],
   "source": [
    "t2[3][1]"
   ]
  },
  {
   "cell_type": "markdown",
   "id": "f7fffd02",
   "metadata": {},
   "source": [
    "for i in t2:\n",
    "    print(i)"
   ]
  },
  {
   "cell_type": "markdown",
   "id": "9f45b823",
   "metadata": {},
   "source": [
    "As it can be seen that we can make changes in a list nested in side a tuple."
   ]
  },
  {
   "cell_type": "markdown",
   "id": "488d1869",
   "metadata": {},
   "source": [
    "## We cannot delete an element of a tuple, but an entire reference or object can be deleted."
   ]
  },
  {
   "cell_type": "markdown",
   "id": "31751fa8",
   "metadata": {},
   "source": [
    "E.G.: "
   ]
  },
  {
   "cell_type": "code",
   "execution_count": 4,
   "id": "43c01917",
   "metadata": {},
   "outputs": [],
   "source": [
    "t4 = (11525,'Sheetal Jain','Agra, Uttar Pradesh')"
   ]
  },
  {
   "cell_type": "code",
   "execution_count": 5,
   "id": "932c6f96",
   "metadata": {},
   "outputs": [
    {
     "ename": "TypeError",
     "evalue": "'tuple' object doesn't support item deletion",
     "output_type": "error",
     "traceback": [
      "\u001b[1;31m---------------------------------------------------------------------------\u001b[0m",
      "\u001b[1;31mTypeError\u001b[0m                                 Traceback (most recent call last)",
      "Cell \u001b[1;32mIn[5], line 1\u001b[0m\n\u001b[1;32m----> 1\u001b[0m \u001b[38;5;28;01mdel\u001b[39;00m(t4[\u001b[38;5;241m1\u001b[39m])\n",
      "\u001b[1;31mTypeError\u001b[0m: 'tuple' object doesn't support item deletion"
     ]
    }
   ],
   "source": [
    "del(t4[1])"
   ]
  },
  {
   "cell_type": "markdown",
   "id": "86285b87",
   "metadata": {},
   "source": [
    "###### As it can be seen, tuple object doesn't support deletion of an element. "
   ]
  },
  {
   "cell_type": "markdown",
   "id": "5e42cef3",
   "metadata": {},
   "source": [
    "### But entire tuple object can be deleted. Here is how: "
   ]
  },
  {
   "cell_type": "code",
   "execution_count": 6,
   "id": "add623c8",
   "metadata": {},
   "outputs": [],
   "source": [
    "del(t4)"
   ]
  },
  {
   "cell_type": "code",
   "execution_count": 7,
   "id": "829f378b",
   "metadata": {},
   "outputs": [
    {
     "ename": "NameError",
     "evalue": "name 't4' is not defined",
     "output_type": "error",
     "traceback": [
      "\u001b[1;31m---------------------------------------------------------------------------\u001b[0m",
      "\u001b[1;31mNameError\u001b[0m                                 Traceback (most recent call last)",
      "Cell \u001b[1;32mIn[7], line 1\u001b[0m\n\u001b[1;32m----> 1\u001b[0m t4\n",
      "\u001b[1;31mNameError\u001b[0m: name 't4' is not defined"
     ]
    }
   ],
   "source": [
    "t4"
   ]
  },
  {
   "cell_type": "markdown",
   "id": "dea8f5bf",
   "metadata": {},
   "source": [
    "As it can be seen, 't4' doesn't exist."
   ]
  },
  {
   "cell_type": "markdown",
   "id": "641e0911",
   "metadata": {},
   "source": [
    "## Fucntions in tuple  "
   ]
  },
  {
   "cell_type": "markdown",
   "id": "efe78608",
   "metadata": {},
   "source": [
    "len(): is used to obtain length of a tuple\n",
    "\n",
    "min(): to obtain minimum value stored in a tuple\n",
    "\n",
    "max(): to obtain maximum value stores in a tuple\n",
    "\n",
    "sum(): Sum of all elements\n",
    "\n",
    "sorted(): To sort elements in ascending \n",
    "\n",
    "any(): any() returns true if atleast one element is true, and if all elements are false it returns false.\n",
    "\n",
    "all(): all() function returns true if all values are true else it returns false\n",
    "\n",
    "tuple(): to make tuple using an iterable object by passing it in tuple() function"
   ]
  },
  {
   "cell_type": "markdown",
   "id": "f3776501",
   "metadata": {},
   "source": [
    "### Examples:"
   ]
  },
  {
   "cell_type": "code",
   "execution_count": 9,
   "id": "31ca1563",
   "metadata": {},
   "outputs": [
    {
     "data": {
      "text/plain": [
       "True"
      ]
     },
     "execution_count": 9,
     "metadata": {},
     "output_type": "execute_result"
    }
   ],
   "source": [
    "#Example 1\n",
    "t5=(12,34,54,67,77)\n",
    "any(t5)"
   ]
  },
  {
   "cell_type": "code",
   "execution_count": 11,
   "id": "6bcb56ca",
   "metadata": {},
   "outputs": [
    {
     "data": {
      "text/plain": [
       "244"
      ]
     },
     "execution_count": 11,
     "metadata": {},
     "output_type": "execute_result"
    }
   ],
   "source": [
    "#Example 2\n",
    "sum(t5)"
   ]
  },
  {
   "cell_type": "code",
   "execution_count": 12,
   "id": "df35de27",
   "metadata": {},
   "outputs": [
    {
     "data": {
      "text/plain": [
       "12"
      ]
     },
     "execution_count": 12,
     "metadata": {},
     "output_type": "execute_result"
    }
   ],
   "source": [
    "#Example 3\n",
    "min(t5)"
   ]
  },
  {
   "cell_type": "code",
   "execution_count": 13,
   "id": "10adb6a4",
   "metadata": {},
   "outputs": [
    {
     "data": {
      "text/plain": [
       "77"
      ]
     },
     "execution_count": 13,
     "metadata": {},
     "output_type": "execute_result"
    }
   ],
   "source": [
    "#Example 4\n",
    "max(t5)"
   ]
  },
  {
   "cell_type": "code",
   "execution_count": 15,
   "id": "7f5ca7cf",
   "metadata": {},
   "outputs": [
    {
     "data": {
      "text/plain": [
       "True"
      ]
     },
     "execution_count": 15,
     "metadata": {},
     "output_type": "execute_result"
    }
   ],
   "source": [
    "#Example 5\n",
    "all(t5)"
   ]
  },
  {
   "cell_type": "code",
   "execution_count": 16,
   "id": "c22941c9",
   "metadata": {},
   "outputs": [
    {
     "data": {
      "text/plain": [
       "False"
      ]
     },
     "execution_count": 16,
     "metadata": {},
     "output_type": "execute_result"
    }
   ],
   "source": [
    "#Example 6\n",
    "t6=(0,0.0,False)\n",
    "all(t6)"
   ]
  },
  {
   "cell_type": "code",
   "execution_count": 17,
   "id": "d36ffcfe",
   "metadata": {},
   "outputs": [
    {
     "data": {
      "text/plain": [
       "list"
      ]
     },
     "execution_count": 17,
     "metadata": {},
     "output_type": "execute_result"
    }
   ],
   "source": [
    "#Example 7\n",
    "t7=[10,20,30,40,50]\n",
    "type(t7)"
   ]
  },
  {
   "cell_type": "code",
   "execution_count": 22,
   "id": "cc5a2c18",
   "metadata": {},
   "outputs": [],
   "source": [
    "t8=tuple(t7)"
   ]
  },
  {
   "cell_type": "code",
   "execution_count": 23,
   "id": "7c9369fa",
   "metadata": {},
   "outputs": [
    {
     "data": {
      "text/plain": [
       "(10, 20, 30, 40, 50)"
      ]
     },
     "execution_count": 23,
     "metadata": {},
     "output_type": "execute_result"
    }
   ],
   "source": [
    "t8"
   ]
  },
  {
   "cell_type": "markdown",
   "id": "31af3f13",
   "metadata": {},
   "source": [
    "## Methods for tuple"
   ]
  },
  {
   "cell_type": "code",
   "execution_count": null,
   "id": "5c84d4e9",
   "metadata": {},
   "outputs": [],
   "source": [
    "1. count()\n",
    "2. index()"
   ]
  },
  {
   "cell_type": "code",
   "execution_count": 23,
   "id": "70f0b0ab",
   "metadata": {},
   "outputs": [
    {
     "data": {
      "text/plain": [
       "5"
      ]
     },
     "execution_count": 23,
     "metadata": {},
     "output_type": "execute_result"
    }
   ],
   "source": [
    "#Example 1:\n",
    "t9=(1,2,3,3,5,6,6,6,6,6,7,7,7,3,3,3,4,4,4)\n",
    "t9.count(3)"
   ]
  },
  {
   "cell_type": "code",
   "execution_count": 24,
   "id": "445a7bea",
   "metadata": {},
   "outputs": [
    {
     "data": {
      "text/plain": [
       "0"
      ]
     },
     "execution_count": 24,
     "metadata": {},
     "output_type": "execute_result"
    }
   ],
   "source": [
    "# Exampel 2:\n",
    "t9.index(1)"
   ]
  },
  {
   "cell_type": "markdown",
   "id": "72828771",
   "metadata": {},
   "source": [
    "Method index() takes the elements as argument and print index of that element"
   ]
  },
  {
   "cell_type": "markdown",
   "id": "47a908ad",
   "metadata": {},
   "source": [
    "#### Use of membership operator on a tuple:"
   ]
  },
  {
   "cell_type": "code",
   "execution_count": 2,
   "id": "616df1aa",
   "metadata": {},
   "outputs": [
    {
     "data": {
      "text/plain": [
       "True"
      ]
     },
     "execution_count": 2,
     "metadata": {},
     "output_type": "execute_result"
    }
   ],
   "source": [
    "a = (\"a\",\"e\",\"i\",\"o\",\"u\")\n",
    "'a' in a"
   ]
  },
  {
   "cell_type": "code",
   "execution_count": 3,
   "id": "a62049fa",
   "metadata": {},
   "outputs": [
    {
     "data": {
      "text/plain": [
       "True"
      ]
     },
     "execution_count": 3,
     "metadata": {},
     "output_type": "execute_result"
    }
   ],
   "source": [
    "'i' in a "
   ]
  },
  {
   "cell_type": "code",
   "execution_count": 4,
   "id": "127292d5",
   "metadata": {},
   "outputs": [
    {
     "data": {
      "text/plain": [
       "True"
      ]
     },
     "execution_count": 4,
     "metadata": {},
     "output_type": "execute_result"
    }
   ],
   "source": [
    "'p' not in a"
   ]
  },
  {
   "cell_type": "code",
   "execution_count": 5,
   "id": "de1f43b3",
   "metadata": {},
   "outputs": [
    {
     "data": {
      "text/plain": [
       "False"
      ]
     },
     "execution_count": 5,
     "metadata": {},
     "output_type": "execute_result"
    }
   ],
   "source": [
    "'q' in a "
   ]
  },
  {
   "cell_type": "markdown",
   "id": "c20c2491",
   "metadata": {},
   "source": [
    "## Concatenation"
   ]
  },
  {
   "cell_type": "code",
   "execution_count": 11,
   "id": "64e5c627",
   "metadata": {},
   "outputs": [
    {
     "name": "stdout",
     "output_type": "stream",
     "text": [
      "1513776445632\n",
      "1513776568128\n",
      "1513751765120\n"
     ]
    }
   ],
   "source": [
    "a1 = (1,3,5)\n",
    "a2 = (2,4,6)\n",
    "print(id(a1))\n",
    "print(id(a2))\n",
    "print(id(a1+a2))"
   ]
  },
  {
   "cell_type": "markdown",
   "id": "1302b178",
   "metadata": {},
   "source": [
    "It can be seen, the concatenated tuple has a different id which means a new object of concatenated tuple has been created."
   ]
  },
  {
   "cell_type": "markdown",
   "id": "f0b4918d",
   "metadata": {},
   "source": [
    "## Multiplication of elements in a tuple"
   ]
  },
  {
   "cell_type": "code",
   "execution_count": 12,
   "id": "eb7e37ce",
   "metadata": {},
   "outputs": [
    {
     "name": "stdout",
     "output_type": "stream",
     "text": [
      "(12, 13, 14)\n"
     ]
    }
   ],
   "source": [
    "x = (12,13,14)\n",
    "print(x)"
   ]
  },
  {
   "cell_type": "code",
   "execution_count": 15,
   "id": "011fb925",
   "metadata": {},
   "outputs": [
    {
     "name": "stdout",
     "output_type": "stream",
     "text": [
      "(12, 13, 14, 12, 13, 14, 12, 13, 14)\n"
     ]
    }
   ],
   "source": [
    "y=x*3\n",
    "print(y)"
   ]
  },
  {
   "cell_type": "code",
   "execution_count": 14,
   "id": "09056531",
   "metadata": {},
   "outputs": [
    {
     "name": "stdout",
     "output_type": "stream",
     "text": [
      "12\n",
      "13\n",
      "14\n"
     ]
    }
   ],
   "source": [
    "for i in x:\n",
    "    print(i)"
   ]
  },
  {
   "cell_type": "code",
   "execution_count": 16,
   "id": "a2b48717",
   "metadata": {},
   "outputs": [
    {
     "name": "stdout",
     "output_type": "stream",
     "text": [
      "12\n",
      "13\n",
      "14\n",
      "12\n",
      "13\n",
      "14\n",
      "12\n",
      "13\n",
      "14\n"
     ]
    }
   ],
   "source": [
    "for i in y:\n",
    "    print(i)"
   ]
  },
  {
   "cell_type": "markdown",
   "id": "15474d1d",
   "metadata": {},
   "source": [
    "## Relational  Operator on tuple"
   ]
  },
  {
   "cell_type": "code",
   "execution_count": null,
   "id": "fc97e784",
   "metadata": {},
   "outputs": [],
   "source": [
    "These operators compare elements as follows:"
   ]
  },
  {
   "cell_type": "code",
   "execution_count": 18,
   "id": "7a9ca509",
   "metadata": {
    "scrolled": true
   },
   "outputs": [
    {
     "name": "stdout",
     "output_type": "stream",
     "text": [
      "True\n",
      "False\n"
     ]
    }
   ],
   "source": [
    "    a = (3,2,4)\n",
    "    b = (3,5,6)\n",
    "    c = a < b\n",
    "    print(c)\n",
    "    print(a>b)"
   ]
  },
  {
   "cell_type": "markdown",
   "id": "2b54bdc9",
   "metadata": {},
   "source": [
    "Statement 'c = a<b'  returned true because first a[0],b[0] is compared, but no conclusion could be arrived. Then, a[1] & b[1] is compared, True could be returned. 'a>b' returned false by following the same execution process."
   ]
  }
 ],
 "metadata": {
  "kernelspec": {
   "display_name": "Python 3 (ipykernel)",
   "language": "python",
   "name": "python3"
  },
  "language_info": {
   "codemirror_mode": {
    "name": "ipython",
    "version": 3
   },
   "file_extension": ".py",
   "mimetype": "text/x-python",
   "name": "python",
   "nbconvert_exporter": "python",
   "pygments_lexer": "ipython3",
   "version": "3.11.4"
  }
 },
 "nbformat": 4,
 "nbformat_minor": 5
}
