{
 "cells": [
  {
   "cell_type": "markdown",
   "id": "4227c887",
   "metadata": {},
   "source": [
    "<h1 style=\"color:rgb(34, 138, 103)\"> Function </h1>"
   ]
  },
  {
   "cell_type": "markdown",
   "id": "beae1218",
   "metadata": {},
   "source": [
    "What is here?\n",
    "1. What is function ?\n",
    "2. how to write a function?\n",
    "3. Argument vs parameter in the function\n",
    "4. Return statement in python\n",
    "5. Scope of varible; Local and Global variable in function\n",
    "6. Lambda Fucntion \n",
    "7. Map and filter function"
   ]
  },
  {
   "cell_type": "markdown",
   "id": "771b800a",
   "metadata": {},
   "source": [
    "<h1 style=\"color:rgb(34, 138, 103)\">What is a function</h1>"
   ]
  },
  {
   "cell_type": "markdown",
   "id": "016d55ed",
   "metadata": {},
   "source": [
    "A function is a block of code written for performing a particular task and can be used as and when it is needed.For example, if you want to make a project calculating simple interest and compound interest as and when it is required, then you will need separate blocks of code which will perform your tasks individually."
   ]
  },
  {
   "cell_type": "markdown",
   "id": "a6c3e55c",
   "metadata": {},
   "source": [
    "<h1 style=\"color:rgb(34, 138, 103)\">How to write a function?</h1>"
   ]
  },
  {
   "cell_type": "markdown",
   "id": "48483eb8",
   "metadata": {},
   "source": [
    "#### Syntax  of writing a function in python"
   ]
  },
  {
   "cell_type": "markdown",
   "id": "2cd03665",
   "metadata": {},
   "source": [
    "##### def function_name(Parameters):"
   ]
  },
  {
   "cell_type": "markdown",
   "id": "800dd9ff",
   "metadata": {},
   "source": [
    "<p>&emsp;&emsp;...............<br>\n",
    "   &emsp;&emsp;.............. <br>\n",
    "   &emsp;&emsp;fucntion definition <br>\n",
    "   &emsp;&emsp;...............<br>\n",
    "   &emsp;&emsp;...............<br></p>"
   ]
  },
  {
   "cell_type": "code",
   "execution_count": 29,
   "id": "6dac483a",
   "metadata": {},
   "outputs": [
    {
     "name": "stdout",
     "output_type": "stream",
     "text": [
      "I am a function!!\n"
     ]
    }
   ],
   "source": [
    "# Example\n",
    "def myfunction():\n",
    "    print(\"I am a function!!\")\n",
    "#Calling myfunction()\n",
    "myfunction()"
   ]
  },
  {
   "cell_type": "markdown",
   "id": "b379246e",
   "metadata": {},
   "source": [
    "<h3 style=\"color: rgb(113, 20, 85);\">Example: A function to calculate simple and compound interest.</h3>"
   ]
  },
  {
   "cell_type": "code",
   "execution_count": 8,
   "id": "47beeb23",
   "metadata": {},
   "outputs": [
    {
     "name": "stdout",
     "output_type": "stream",
     "text": [
      "Welcome to SI and CI Calculator\n",
      "--------------------------------------------------------------------\n",
      "--------------------------------------------------------------------\n",
      "Choose any one : \n",
      "1. SI\n",
      "2. CI\n",
      "3. Exit\n",
      "Enter your choice : 1\n",
      "Enter the principal : 5200\n",
      "Enter rate of interest (p.a) : 4\n",
      "Enter the time period in years : 5\n",
      "The amount of interest is 1040.0\n",
      "--------------------------------------------------------------------\n",
      "Choose any one : \n",
      "1. SI\n",
      "2. CI\n",
      "3. Exit\n",
      "Enter your choice : 4580\n",
      "Wront Input, press 3 for exit\n",
      "Choose any one : \n",
      "1. SI\n",
      "2. CI\n",
      "3. Exit\n",
      "Enter your choice : 2\n",
      "Enter the principal : 5245\n",
      "Enter rate of interest (p.a) : 5\n",
      "Enter the time period in years : 3\n",
      "The amount of interest is 826.7431250000009\n",
      "--------------------------------------------------------------------\n",
      "Choose any one : \n",
      "1. SI\n",
      "2. CI\n",
      "3. Exit\n",
      "Enter your choice : 3\n",
      "Thank You. Good Bye\n"
     ]
    }
   ],
   "source": [
    "print(\"Welcome to SI and CI Calculator\")   \n",
    "print(\"--------------------------------------------------------------------\")\n",
    "print(\"--------------------------------------------------------------------\")\n",
    "\n",
    "def si():\n",
    "    p=int(input(\"Enter the principal : \"))\n",
    "    r=int(input(\"Enter rate of interest (p.a) : \"))\n",
    "    t=int(input(\"Enter the time period in years : \"))\n",
    "    i=(p*r*t)/100\n",
    "    print(f\"The amount of interest is {i}\")\n",
    "    print(\"--------------------------------------------------------------------\")\n",
    "def ci():\n",
    "    p=int(input(\"Enter the principal : \"))\n",
    "    r=int(input(\"Enter rate of interest (p.a) : \"))\n",
    "    t=int(input(\"Enter the time period in years : \"))\n",
    "    m=pow((1+(r/100)),t)\n",
    "    ia=p*m\n",
    "    print(f\"The amount of interest is {ia-p}\")\n",
    "    print(\"--------------------------------------------------------------------\")\n",
    "while True:\n",
    "    print(\"Choose any one : \\n1. SI\\n2. CI\\n3. Exit\")\n",
    "    choice=int(input(\"Enter your choice : \"))\n",
    "    if choice==1:\n",
    "        si()\n",
    "    elif choice==2:\n",
    "        ci()\n",
    "    elif choice==3:\n",
    "        print(\"Thank You. Good Bye\")\n",
    "        break;\n",
    "    else:\n",
    "        print(\"Wront Input, press 3 for exit\")\n"
   ]
  },
  {
   "cell_type": "markdown",
   "id": "cc7eabfb",
   "metadata": {},
   "source": [
    "<h2 style=\"color:rgb(34, 138, 103)\">Argument vs Parameter in a function</h2>"
   ]
  },
  {
   "cell_type": "markdown",
   "id": "74a5ef2b",
   "metadata": {},
   "source": [
    "<img src=\"data:image/png;base64,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\" style=\"width:500px; height:250px\">"
   ]
  },
  {
   "cell_type": "markdown",
   "id": "eb3b4e6f",
   "metadata": {},
   "source": [
    " Credit for image : stackoverflow"
   ]
  },
  {
   "cell_type": "markdown",
   "id": "0ef3f1be",
   "metadata": {},
   "source": [
    "<b>Argument :</b>Arguments are the value or variable passed in a function call<br><b>Parameters :</b> Parameters are written in the function header. These are palceholders for the argument passed in function calling "
   ]
  },
  {
   "cell_type": "markdown",
   "id": "7540f897",
   "metadata": {},
   "source": [
    "###### Example : \n",
    "    "
   ]
  },
  {
   "cell_type": "code",
   "execution_count": 5,
   "id": "adf9bb11",
   "metadata": {},
   "outputs": [
    {
     "name": "stdout",
     "output_type": "stream",
     "text": [
      "Sum is :  44\n",
      "Sum is :  74\n"
     ]
    }
   ],
   "source": [
    "#function definition\n",
    "def add(a,b):\n",
    "    print(\"Sum is : \",(a+b))\n",
    "#function call\n",
    "x=12\n",
    "y=32\n",
    "#Passing varibles as arguments\n",
    "add(x,y)\n",
    "#passing values as arguments\n",
    "add(10,64)\n"
   ]
  },
  {
   "cell_type": "markdown",
   "id": "cb9f2250",
   "metadata": {},
   "source": [
    "<h2 style=\"color:rgb(34, 138, 103)\">Return statement in Python</h2>"
   ]
  },
  {
   "cell_type": "markdown",
   "id": "a9320c51",
   "metadata": {},
   "source": [
    "<h3> If a fucntion returns anything then we write only return statement but not the return type and we store the returned result in a variable or in variables. But we need to take as many variable as we have passed while function calling.</h3>"
   ]
  },
  {
   "cell_type": "code",
   "execution_count": 6,
   "id": "352c10e6",
   "metadata": {},
   "outputs": [
    {
     "name": "stdout",
     "output_type": "stream",
     "text": [
      "Welcome you here in 'Game of Palindrome Number':\n",
      "Enter an integer to check whether it is a palindrom or not : 1254\n",
      "1254 is not palindrom\n"
     ]
    }
   ],
   "source": [
    "#Example 2:\n",
    "def palindrom(x):\n",
    "    test=x\n",
    "    ans=0\n",
    "    while test!=0:\n",
    "        digit=test%10\n",
    "        ans=ans*10+digit\n",
    "        test=test//10\n",
    "    return ans\n",
    "print(\"Welcome you here in 'Game of Palindrome Number':\")\n",
    "x=int(input(\"Enter an integer to check whether it is a palindrom or not : \"))\n",
    "result = palindrom(x)\n",
    "if(result == x):\n",
    "    print(f\"{x} is palindrom\")\n",
    "else:\n",
    "    print(f\"{x} is not palindrom\")\n",
    "    "
   ]
  },
  {
   "cell_type": "markdown",
   "id": "218b9a0d",
   "metadata": {},
   "source": [
    "<h3>In python it is allowed to return more than one variable at a time.</h3>"
   ]
  },
  {
   "cell_type": "markdown",
   "id": "d553ac8d",
   "metadata": {},
   "source": [
    " here We will return sum of the digits, product of the digits, and number of digits."
   ]
  },
  {
   "cell_type": "code",
   "execution_count": 1,
   "id": "eb9c00df",
   "metadata": {},
   "outputs": [],
   "source": [
    "#Example 3\n",
    "def play_with_number(x):\n",
    "    sum=0\n",
    "    product=1\n",
    "    digits=0\n",
    "    digit=0\n",
    "    dummy=x\n",
    "    while dummy!=0:\n",
    "        digit=dummy%10\n",
    "        sum=sum+digit\n",
    "        dummy=dummy//10\n",
    "    \n",
    "    dummy=x\n",
    "    while dummy!=0:\n",
    "        digit=dummy%10\n",
    "        product=product*digit\n",
    "        dummy=dummy//10\n",
    "    \n",
    "    dummy=x\n",
    "    while dummy!=0:\n",
    "        digits+=1\n",
    "        dummy=dummy//10\n",
    "    return sum,product,digits"
   ]
  },
  {
   "cell_type": "code",
   "execution_count": 2,
   "id": "d0831e0c",
   "metadata": {},
   "outputs": [
    {
     "name": "stdout",
     "output_type": "stream",
     "text": [
      "Enter an integer : 12545\n",
      "Sum of Digit is : 17 \n",
      "Product of digits is : 200 \n",
      "Number of digits :5\n"
     ]
    }
   ],
   "source": [
    "x=int(input(\"Enter an integer : \"))\n",
    "a,b,c=play_with_number(x)\n",
    "print(f\"Sum of Digit is : {a} \\nProduct of digits is : {b} \\nNumber of digits :{c}\")    "
   ]
  },
  {
   "cell_type": "markdown",
   "id": "86dbd3ca",
   "metadata": {},
   "source": [
    "<h3 style=\"color: rgb(113, 20, 85);\">Q : WAP to return the factorial of a given number</h3>"
   ]
  },
  {
   "cell_type": "code",
   "execution_count": 3,
   "id": "dbe7df99",
   "metadata": {},
   "outputs": [],
   "source": [
    "def factorial(n):\n",
    "    fact=1\n",
    "    while n!=0:\n",
    "        fact=fact*n\n",
    "        n-=1\n",
    "    return fact"
   ]
  },
  {
   "cell_type": "code",
   "execution_count": 4,
   "id": "970d65c1",
   "metadata": {},
   "outputs": [
    {
     "name": "stdout",
     "output_type": "stream",
     "text": [
      "Enter a number : 7\n",
      "The factorial of the given number is :  5040\n"
     ]
    }
   ],
   "source": [
    "m =  int(input(\"Enter a number : \"))\n",
    "print(\"The factorial of the given number is : \", factorial(m))"
   ]
  },
  {
   "cell_type": "markdown",
   "id": "2b3d89ee",
   "metadata": {},
   "source": [
    "<h2 style=\"color:rgb(34, 138, 103)\">Positional Argument</h2>"
   ]
  },
  {
   "cell_type": "markdown",
   "id": "ca2607c8",
   "metadata": {},
   "source": [
    "##### You will see it when number of arguments in function definition is not equal to number of argument passed while function calling.This means that we have to write as many parameters in the function definition as many we have passed in the function call. For Example,"
   ]
  },
  {
   "cell_type": "code",
   "execution_count": 7,
   "id": "00ea7cef",
   "metadata": {},
   "outputs": [],
   "source": [
    "def pro(a,b):\n",
    "    return a+b"
   ]
  },
  {
   "cell_type": "code",
   "execution_count": null,
   "id": "f8313548",
   "metadata": {},
   "outputs": [],
   "source": [
    "#Function call when number of argument is as same as number of parameters in the function definition.\n",
    "pro(10,20)"
   ]
  },
  {
   "cell_type": "code",
   "execution_count": 8,
   "id": "5e5b2a6b",
   "metadata": {},
   "outputs": [
    {
     "ename": "TypeError",
     "evalue": "pro() missing 1 required positional argument: 'b'",
     "output_type": "error",
     "traceback": [
      "\u001b[1;31m---------------------------------------------------------------------------\u001b[0m",
      "\u001b[1;31mTypeError\u001b[0m                                 Traceback (most recent call last)",
      "Cell \u001b[1;32mIn[8], line 2\u001b[0m\n\u001b[0;32m      1\u001b[0m \u001b[38;5;66;03m#Function call when number of argument is not as same as number of parameter in the function definition.\u001b[39;00m\n\u001b[1;32m----> 2\u001b[0m pro(\u001b[38;5;241m10\u001b[39m)\n",
      "\u001b[1;31mTypeError\u001b[0m: pro() missing 1 required positional argument: 'b'"
     ]
    }
   ],
   "source": [
    "#Function call when number of argument is not as same as number of parameters in the function definition.\n",
    "pro(10)"
   ]
  },
  {
   "cell_type": "markdown",
   "id": "daad1d23",
   "metadata": {},
   "source": [
    "##### As it can be seen, the error says, \"pro() missing 1 required positional argument: 'b'\". Hence, we should be passing as many number of parameters as many are there in the function definition. "
   ]
  },
  {
   "cell_type": "markdown",
   "id": "7c9c38f4",
   "metadata": {},
   "source": [
    "<h2 style=\"color:rgb(34, 138, 103)\">Keyword Argument</h2>"
   ]
  },
  {
   "cell_type": "markdown",
   "id": "2a8f438c",
   "metadata": {},
   "source": [
    "##### If we are passing arguments with value in function call then they are keyword argument.\n"
   ]
  },
  {
   "cell_type": "code",
   "execution_count": 1,
   "id": "d51d304f",
   "metadata": {},
   "outputs": [],
   "source": [
    "def ka(a,b,c,d):\n",
    "    return a*b*c*d"
   ]
  },
  {
   "cell_type": "code",
   "execution_count": 4,
   "id": "b21bc2d0",
   "metadata": {},
   "outputs": [
    {
     "name": "stdout",
     "output_type": "stream",
     "text": [
      "  30\n"
     ]
    }
   ],
   "source": [
    "print(\" \",ka(a=1,b=2,c=3,d=5))"
   ]
  },
  {
   "cell_type": "markdown",
   "id": "58893431",
   "metadata": {},
   "source": [
    "##### While using keyword arguement we need to ensure that whether we are passing the argument variable as same as mention in fucntion defintion.\n",
    "#### For example:\n",
    "F is not an argument variable in the defintinon of the function ka(). So, it will be prompting an err saying,\"ka() got an unexpected keyword argument 'f'\""
   ]
  },
  {
   "cell_type": "code",
   "execution_count": 9,
   "id": "beb4b7b1",
   "metadata": {},
   "outputs": [
    {
     "ename": "TypeError",
     "evalue": "ka() got an unexpected keyword argument 'f'",
     "output_type": "error",
     "traceback": [
      "\u001b[1;31m---------------------------------------------------------------------------\u001b[0m",
      "\u001b[1;31mTypeError\u001b[0m                                 Traceback (most recent call last)",
      "Cell \u001b[1;32mIn[9], line 3\u001b[0m\n\u001b[0;32m      1\u001b[0m \u001b[38;5;66;03m#F is not an argument variable in the defintinon of the function ka(). So, it will be prompting an err saying,\"\"\u001b[39;00m\n\u001b[1;32m----> 3\u001b[0m ka(a\u001b[38;5;241m=\u001b[39m\u001b[38;5;241m1\u001b[39m,b\u001b[38;5;241m=\u001b[39m\u001b[38;5;241m2\u001b[39m,c\u001b[38;5;241m=\u001b[39m\u001b[38;5;241m3\u001b[39m,f\u001b[38;5;241m=\u001b[39m\u001b[38;5;241m5\u001b[39m)\n",
      "\u001b[1;31mTypeError\u001b[0m: ka() got an unexpected keyword argument 'f'"
     ]
    }
   ],
   "source": [
    "ka(a=1,b=2,c=3,f=5)"
   ]
  },
  {
   "cell_type": "markdown",
   "id": "e95f724e",
   "metadata": {},
   "source": [
    "<h2 style=\"color:rgb(34, 138, 103)\">Default Argument</h2>"
   ]
  },
  {
   "cell_type": "markdown",
   "id": "bf4062ff",
   "metadata": {},
   "source": [
    "We can define a default value of an argument while defining a function as follows:"
   ]
  },
  {
   "cell_type": "markdown",
   "id": "67dac943",
   "metadata": {},
   "source": [
    "##### Note : "
   ]
  },
  {
   "cell_type": "markdown",
   "id": "92391db0",
   "metadata": {},
   "source": [
    "###### Non-default arguments are followed by defauld argument. If you don't write in this way you will be shown an error saying, \"non-default argument follows default argument\" "
   ]
  },
  {
   "cell_type": "code",
   "execution_count": 10,
   "id": "cbc8418f",
   "metadata": {},
   "outputs": [
    {
     "ename": "SyntaxError",
     "evalue": "non-default argument follows default argument (1863839330.py, line 1)",
     "output_type": "error",
     "traceback": [
      "\u001b[1;36m  Cell \u001b[1;32mIn[10], line 1\u001b[1;36m\u001b[0m\n\u001b[1;33m    def default_arument(a,b,c=0,d):\u001b[0m\n\u001b[1;37m                                ^\u001b[0m\n\u001b[1;31mSyntaxError\u001b[0m\u001b[1;31m:\u001b[0m non-default argument follows default argument\n"
     ]
    }
   ],
   "source": [
    "#Example \n",
    "def default_arument(a,b,c=0,d):\n",
    "    return a+b+c+d"
   ]
  },
  {
   "cell_type": "code",
   "execution_count": 7,
   "id": "770b4e76",
   "metadata": {},
   "outputs": [],
   "source": [
    "#Exmple \n",
    "\n",
    "def default_arument1(a,b,d,c=0):\n",
    "    return a+b+c+d"
   ]
  },
  {
   "cell_type": "markdown",
   "id": "655c336d",
   "metadata": {},
   "source": [
    "We can pass a new value for a default argument, but if we don't pass it takes the default argument assigned \n",
    "while writing defintion of a function"
   ]
  },
  {
   "cell_type": "code",
   "execution_count": 8,
   "id": "866453ed",
   "metadata": {},
   "outputs": [
    {
     "data": {
      "text/plain": [
       "10"
      ]
     },
     "execution_count": 8,
     "metadata": {},
     "output_type": "execute_result"
    }
   ],
   "source": [
    "#Example 1\n",
    "default_arument1(1,2,3,4)"
   ]
  },
  {
   "cell_type": "code",
   "execution_count": 17,
   "id": "3e230e1c",
   "metadata": {},
   "outputs": [
    {
     "data": {
      "text/plain": [
       "6"
      ]
     },
     "execution_count": 17,
     "metadata": {},
     "output_type": "execute_result"
    }
   ],
   "source": [
    "#Example 2\n",
    "default_arument1(1,2,3)"
   ]
  },
  {
   "cell_type": "markdown",
   "id": "dc9ce7f8",
   "metadata": {},
   "source": [
    "<h2 style=\"color:rgb(34, 138, 103)\"> Function Overloading </h2>"
   ]
  },
  {
   "cell_type": "markdown",
   "id": "25f568ac",
   "metadata": {},
   "source": [
    "##### Function in Python does't support overloading. But rather than prompting an err it calls the recent definition of the function. "
   ]
  },
  {
   "cell_type": "markdown",
   "id": "41c619d1",
   "metadata": {},
   "source": [
    "#### For Example "
   ]
  },
  {
   "cell_type": "code",
   "execution_count": 11,
   "id": "aa200637",
   "metadata": {},
   "outputs": [],
   "source": [
    "def product(a,b,c,d):\n",
    "    return a*b*c*d"
   ]
  },
  {
   "cell_type": "code",
   "execution_count": 12,
   "id": "79621a69",
   "metadata": {},
   "outputs": [],
   "source": [
    "def product(a,b,c,d,e):\n",
    "    return a*b*c*d*e"
   ]
  },
  {
   "cell_type": "code",
   "execution_count": 13,
   "id": "feb485ea",
   "metadata": {},
   "outputs": [],
   "source": [
    "def product(a,b,c,d,e,f):\n",
    "    return a*b*c*d*e*f"
   ]
  },
  {
   "cell_type": "code",
   "execution_count": 14,
   "id": "10ca7447",
   "metadata": {},
   "outputs": [
    {
     "ename": "TypeError",
     "evalue": "product() missing 2 required positional arguments: 'e' and 'f'",
     "output_type": "error",
     "traceback": [
      "\u001b[1;31m---------------------------------------------------------------------------\u001b[0m",
      "\u001b[1;31mTypeError\u001b[0m                                 Traceback (most recent call last)",
      "Cell \u001b[1;32mIn[14], line 2\u001b[0m\n\u001b[0;32m      1\u001b[0m \u001b[38;5;66;03m#Function call with four arguments\u001b[39;00m\n\u001b[1;32m----> 2\u001b[0m product(\u001b[38;5;241m10\u001b[39m,\u001b[38;5;241m20\u001b[39m,\u001b[38;5;241m30\u001b[39m,\u001b[38;5;241m40\u001b[39m)\n",
      "\u001b[1;31mTypeError\u001b[0m: product() missing 2 required positional arguments: 'e' and 'f'"
     ]
    }
   ],
   "source": [
    "#Example 1: Function call with four arguments\n",
    "product(10,20,30,40)"
   ]
  },
  {
   "cell_type": "code",
   "execution_count": 15,
   "id": "a3406cbb",
   "metadata": {},
   "outputs": [
    {
     "ename": "TypeError",
     "evalue": "product() missing 1 required positional argument: 'f'",
     "output_type": "error",
     "traceback": [
      "\u001b[1;31m---------------------------------------------------------------------------\u001b[0m",
      "\u001b[1;31mTypeError\u001b[0m                                 Traceback (most recent call last)",
      "Cell \u001b[1;32mIn[15], line 2\u001b[0m\n\u001b[0;32m      1\u001b[0m \u001b[38;5;66;03m#Example 2: Function call with five arguments\u001b[39;00m\n\u001b[1;32m----> 2\u001b[0m product(\u001b[38;5;241m10\u001b[39m,\u001b[38;5;241m20\u001b[39m,\u001b[38;5;241m30\u001b[39m,\u001b[38;5;241m40\u001b[39m,\u001b[38;5;241m50\u001b[39m)\n",
      "\u001b[1;31mTypeError\u001b[0m: product() missing 1 required positional argument: 'f'"
     ]
    }
   ],
   "source": [
    "#Example 2: Function call with five arguments\n",
    "product(10,20,30,40,50)"
   ]
  },
  {
   "cell_type": "code",
   "execution_count": 16,
   "id": "5b65c5ef",
   "metadata": {},
   "outputs": [
    {
     "data": {
      "text/plain": [
       "720000000"
      ]
     },
     "execution_count": 16,
     "metadata": {},
     "output_type": "execute_result"
    }
   ],
   "source": [
    "#Example 3: Function call with six arguments\n",
    "product(10,20,30,40,50,60)"
   ]
  },
  {
   "cell_type": "markdown",
   "id": "f799f494",
   "metadata": {},
   "source": [
    "###### As it can be seen only one fucntion, which is recent, has been called. Rest two functions are now of no use. Now, we cannot pass 3 or 4 arguments. To over come this we have a \n",
    "<h2 style=\"color:rgb(34, 138, 103)\">Concept of passing n values in a fucntion and receiving them in a tuple</h2>"
   ]
  },
  {
   "cell_type": "code",
   "execution_count": 9,
   "id": "d1bdfcc5",
   "metadata": {},
   "outputs": [],
   "source": [
    "\n",
    "def product(*a):\n",
    "    mul=1\n",
    "    print(a)\n",
    "    for i in a:\n",
    "        mul=mul*i\n",
    "    \n",
    "    return mul    "
   ]
  },
  {
   "cell_type": "markdown",
   "id": "7f13ec70",
   "metadata": {},
   "source": [
    "<h3><b>Note</b></h3><i>Writing more than one *a (any other varible can also be there other than 'a') is invalid</i>"
   ]
  },
  {
   "cell_type": "code",
   "execution_count": 4,
   "id": "5dee7928",
   "metadata": {},
   "outputs": [
    {
     "ename": "SyntaxError",
     "evalue": "* argument may appear only once (2461950445.py, line 2)",
     "output_type": "error",
     "traceback": [
      "\u001b[1;36m  Cell \u001b[1;32mIn[4], line 2\u001b[1;36m\u001b[0m\n\u001b[1;33m    def myfunction(*a,*b):\u001b[0m\n\u001b[1;37m                      ^\u001b[0m\n\u001b[1;31mSyntaxError\u001b[0m\u001b[1;31m:\u001b[0m * argument may appear only once\n"
     ]
    }
   ],
   "source": [
    "#Example\n",
    "def myfunction(*a,*b):\n",
    "    print(a)\n",
    "    print(b)\n",
    "myfunction(a,b,b,c,c,d,d,d,e)"
   ]
  },
  {
   "cell_type": "code",
   "execution_count": 10,
   "id": "7b3d180a",
   "metadata": {},
   "outputs": [
    {
     "name": "stdout",
     "output_type": "stream",
     "text": [
      "(10, 20, 30)\n"
     ]
    },
    {
     "data": {
      "text/plain": [
       "6000"
      ]
     },
     "execution_count": 10,
     "metadata": {},
     "output_type": "execute_result"
    }
   ],
   "source": [
    "#Example 1:Function call with 3 arguments\n",
    "product(10,20,30)"
   ]
  },
  {
   "cell_type": "code",
   "execution_count": 11,
   "id": "8d3f6f0c",
   "metadata": {},
   "outputs": [
    {
     "name": "stdout",
     "output_type": "stream",
     "text": [
      "(10, 20, 30, 40, 50, 60)\n"
     ]
    },
    {
     "data": {
      "text/plain": [
       "720000000"
      ]
     },
     "execution_count": 11,
     "metadata": {},
     "output_type": "execute_result"
    }
   ],
   "source": [
    "#Example 2:Function call with 6 arguments\n",
    "product(10,20,30,40,50,60,)"
   ]
  },
  {
   "cell_type": "code",
   "execution_count": 12,
   "id": "94c8c5b4",
   "metadata": {},
   "outputs": [
    {
     "name": "stdout",
     "output_type": "stream",
     "text": [
      "(10, 20, 30, 40, 50, 60, 70, 80)\n"
     ]
    },
    {
     "data": {
      "text/plain": [
       "4032000000000"
      ]
     },
     "execution_count": 12,
     "metadata": {},
     "output_type": "execute_result"
    }
   ],
   "source": [
    "#Example 3:Function call with 8 arguments\n",
    "product(10,20,30,40,50,60,70,80)"
   ]
  },
  {
   "cell_type": "markdown",
   "id": "e73fd996",
   "metadata": {},
   "source": [
    "##### As it  can be seen, in the above three examples, that the multiple values passed are being stored in the tuple with the help of '*' operator."
   ]
  },
  {
   "cell_type": "markdown",
   "id": "7f64ebe8",
   "metadata": {},
   "source": [
    "<h3 style=\"color: rgb(113, 20, 85);\">Q : Write a function to calculate area of circle in such a way that it receives an argument 'r' for radius and it has a default argument 'pi = 3.14'.</h3> "
   ]
  },
  {
   "cell_type": "code",
   "execution_count": 15,
   "id": "2941848c",
   "metadata": {},
   "outputs": [],
   "source": [
    "def area_of_circle(r,pi=3.14):\n",
    "    return pi*r*r;"
   ]
  },
  {
   "cell_type": "code",
   "execution_count": 16,
   "id": "183a41f6",
   "metadata": {},
   "outputs": [
    {
     "data": {
      "text/plain": [
       "314.0"
      ]
     },
     "execution_count": 16,
     "metadata": {},
     "output_type": "execute_result"
    }
   ],
   "source": [
    "area_of_circle(10)"
   ]
  },
  {
   "cell_type": "code",
   "execution_count": 1,
   "id": "e4037e8f",
   "metadata": {},
   "outputs": [
    {
     "name": "stdout",
     "output_type": "stream",
     "text": [
      "My item is Dove Shop and price is 150 \n",
      "My item is  Dove Shop and price is 150\n",
      "My item is Dove Shop and price is 150\n"
     ]
    }
   ],
   "source": [
    "#More Exmaple \n",
    "\n",
    "def attach(name,price):\n",
    "    print(f\"My item is {name} and price is {price} \")\n",
    "    print(\"My item is \",name, \"and price is\",price)\n",
    "    print(\"My item is {0} and price is {1}\".format(name,price))\n",
    "    \n",
    "attach(price=150,name=\"Dove Shop\")"
   ]
  },
  {
   "cell_type": "markdown",
   "id": "64d87ac9",
   "metadata": {},
   "source": [
    "#### Here, as we can see, I changed the place of arguments in function call but as I have used keyword argument, values were assigned to the variables they were intended to be assigned."
   ]
  },
  {
   "cell_type": "markdown",
   "id": "3baed12f",
   "metadata": {},
   "source": [
    "<h3 style=\"color: rgb(113, 20, 85);\">Q: WAP lar_string() which accepts multiple string and prints the length of longest string</h3>"
   ]
  },
  {
   "cell_type": "code",
   "execution_count": 3,
   "id": "1e2c636c",
   "metadata": {},
   "outputs": [
    {
     "name": "stdout",
     "output_type": "stream",
     "text": [
      "Enter names saprated by comma  : simmi,sheetal,vandna, radha\n",
      "7 is the length of the largest string. \n"
     ]
    }
   ],
   "source": [
    "def lar_string():\n",
    "    b=[]\n",
    "    x=input(\"Enter names saprated by comma  : \")\n",
    "    x=x.split(',')\n",
    "    for i in x:\n",
    "        b.append(len(i))\n",
    "    print(f\"{max(b)} is the length of the largest string. \")\n",
    "lar_string()"
   ]
  },
  {
   "cell_type": "markdown",
   "id": "eab2d46a",
   "metadata": {},
   "source": [
    "<h2 style=\"color:rgb(34, 138, 103)\">Scope of a varible</h2>"
   ]
  },
  {
   "cell_type": "markdown",
   "id": "27f1adb8",
   "metadata": {},
   "source": [
    "#### The scope of a varible can be local or global."
   ]
  },
  {
   "cell_type": "markdown",
   "id": "81d637a2",
   "metadata": {},
   "source": [
    "<b>1. Local Varible</b> : A varible which can't be used beyond a block of code is called a local varible.For example, a varible defined within a loop, or within a function defintion can be accessed within the function or the loop, such a varible is a local varible."
   ]
  },
  {
   "cell_type": "code",
   "execution_count": 8,
   "id": "8d865ffa",
   "metadata": {},
   "outputs": [
    {
     "name": "stdout",
     "output_type": "stream",
     "text": [
      "Sum :  7\n"
     ]
    },
    {
     "ename": "NameError",
     "evalue": "name 'a' is not defined",
     "output_type": "error",
     "traceback": [
      "\u001b[1;31m---------------------------------------------------------------------------\u001b[0m",
      "\u001b[1;31mNameError\u001b[0m                                 Traceback (most recent call last)",
      "Cell \u001b[1;32mIn[8], line 7\u001b[0m\n\u001b[0;32m      5\u001b[0m     \u001b[38;5;28mprint\u001b[39m(\u001b[38;5;124m\"\u001b[39m\u001b[38;5;124mSum : \u001b[39m\u001b[38;5;124m\"\u001b[39m,(a\u001b[38;5;241m+\u001b[39mb))\n\u001b[0;32m      6\u001b[0m add()\n\u001b[1;32m----> 7\u001b[0m \u001b[38;5;28mprint\u001b[39m(a\u001b[38;5;241m+\u001b[39mb)\n",
      "\u001b[1;31mNameError\u001b[0m: name 'a' is not defined"
     ]
    }
   ],
   "source": [
    "#Eample:\n",
    "def add():\n",
    "    a=2\n",
    "    b=5\n",
    "    print(\"Sum : \",(a+b))\n",
    "add()\n",
    "print(a+b) \n"
   ]
  },
  {
   "cell_type": "markdown",
   "id": "7798cf58",
   "metadata": {},
   "source": [
    "##### Since, varible a and b are local varible, they can't be accessed beyond the function block. So, we can say scope of varible a & b is local, and they are local varible."
   ]
  },
  {
   "cell_type": "markdown",
   "id": "bdfe154b",
   "metadata": {},
   "source": [
    "<b>2. Global Varible</b> : A varible which can be used from anywhere in a program is a global varible."
   ]
  },
  {
   "cell_type": "code",
   "execution_count": 1,
   "id": "20c63d74",
   "metadata": {},
   "outputs": [
    {
     "name": "stdout",
     "output_type": "stream",
     "text": [
      "Enter you name : Simmi\n",
      "Simmi\n",
      "5\n",
      "immiS\n"
     ]
    }
   ],
   "source": [
    "#Example 1\n",
    "x=input(\"Enter you name : \")\n",
    "def welcome(x):\n",
    "    print(x)\n",
    "def len_of_name(x):\n",
    "    print(len(x))\n",
    "def reverse(x):\n",
    "    print(x[::-1])\n",
    "welcome(x)\n",
    "len_of_name(x)\n",
    "reverse(x)"
   ]
  },
  {
   "cell_type": "markdown",
   "id": "14db2d06",
   "metadata": {},
   "source": [
    "As it can be seen the varible 'x' can be accessed in all three fucntions(i.e. reverse(),len_of_name(),welcome()). Hence, the scope of varible 'x' is global and thus 'x' is a global varible."
   ]
  },
  {
   "cell_type": "code",
   "execution_count": 3,
   "id": "7c7b9536",
   "metadata": {},
   "outputs": [
    {
     "name": "stdout",
     "output_type": "stream",
     "text": [
      "I am Simmi\n",
      "------------------\n",
      "I am Sheetal\n"
     ]
    }
   ],
   "source": [
    "#Example 2:\n",
    "a=\"I am Sheetal\"\n",
    "def myfunc():\n",
    "    a=\"I am Simmi\"\n",
    "    print(a)\n",
    "myfunc()# contain local varible 'a'\n",
    "print(\"------------------\")\n",
    "print(a)# value of global varible 'a'"
   ]
  },
  {
   "cell_type": "markdown",
   "id": "a45a8d9f",
   "metadata": {},
   "source": [
    "##### ★ We can make a varible global even inside a function or any particular block of code by writing keyword 'global' before the varible name."
   ]
  },
  {
   "cell_type": "code",
   "execution_count": 7,
   "id": "314f163b",
   "metadata": {},
   "outputs": [
    {
     "name": "stdout",
     "output_type": "stream",
     "text": [
      "Let's get back to home\n",
      "Let's get back to home\n"
     ]
    }
   ],
   "source": [
    "# Example 3\n",
    "def pr():\n",
    "    global k\n",
    "    k=\"Let's get back to home\"\n",
    "    print(k)\n",
    "pr()\n",
    "print(k)"
   ]
  },
  {
   "cell_type": "markdown",
   "id": "9e00424d",
   "metadata": {},
   "source": [
    "##### 》But if you try to access a varible you declared inside a function from outside the function block then it will prompt an error."
   ]
  },
  {
   "cell_type": "code",
   "execution_count": 11,
   "id": "42fcae76",
   "metadata": {},
   "outputs": [
    {
     "name": "stdout",
     "output_type": "stream",
     "text": [
      "Let's get back to home\n"
     ]
    },
    {
     "ename": "NameError",
     "evalue": "name 'm' is not defined",
     "output_type": "error",
     "traceback": [
      "\u001b[1;31m---------------------------------------------------------------------------\u001b[0m",
      "\u001b[1;31mNameError\u001b[0m                                 Traceback (most recent call last)",
      "Cell \u001b[1;32mIn[11], line 5\u001b[0m\n\u001b[0;32m      3\u001b[0m     \u001b[38;5;28mprint\u001b[39m(m)\n\u001b[0;32m      4\u001b[0m pr()\n\u001b[1;32m----> 5\u001b[0m \u001b[38;5;28mprint\u001b[39m(m)\n",
      "\u001b[1;31mNameError\u001b[0m: name 'm' is not defined"
     ]
    }
   ],
   "source": [
    "#Example 4\n",
    "def pr():\n",
    "    m=\"Let's get back to home\"\n",
    "    print(m)\n",
    "pr()\n",
    "print(m)"
   ]
  },
  {
   "cell_type": "code",
   "execution_count": 13,
   "id": "6583b628",
   "metadata": {},
   "outputs": [
    {
     "name": "stdout",
     "output_type": "stream",
     "text": [
      "But I have to fall in love with Python as AIML is Python oriented\n",
      "2653862310320\n",
      "But I have to fall in love with Python as AIML is Python oriented\n",
      "2653862310320\n"
     ]
    }
   ],
   "source": [
    "#Example 5\n",
    "a = \"I loved Java language\"\n",
    "def myfunc1():\n",
    "    global a\n",
    "    a=\"But I have to fall in love with Python as AIML is Python oriented\"\n",
    "    print(a)\n",
    "    print(id(a))\n",
    "myfunc1()\n",
    "print(a)\n",
    "print(id(a))"
   ]
  },
  {
   "cell_type": "markdown",
   "id": "06c8dfd7",
   "metadata": {},
   "source": [
    "<p style=\"color:red;\">We should observe that the varible which though declared inside a function but have been made global by using keyword \"global\" is pointing to the same address whihc the varible declared ouside function has.</p>"
   ]
  },
  {
   "cell_type": "markdown",
   "id": "6e1c0652",
   "metadata": {},
   "source": [
    "<h2 style=\"color:rgb(34, 138, 103)\">Lamda Function</h2>"
   ]
  },
  {
   "cell_type": "markdown",
   "id": "d56e95ac",
   "metadata": {},
   "source": [
    "Lambda function is an anonymous function which can take any number of arguments but can have only one expression. Here are some examples,"
   ]
  },
  {
   "cell_type": "markdown",
   "id": "340f7245",
   "metadata": {},
   "source": [
    "<h4 style=\"color: rgb(149, 10, 67);\"> Example 1: a lambda function returning differecnce of squares of integers passed in it</h4>"
   ]
  },
  {
   "cell_type": "code",
   "execution_count": 26,
   "id": "d6b2eed2",
   "metadata": {},
   "outputs": [
    {
     "name": "stdout",
     "output_type": "stream",
     "text": [
      "24\n"
     ]
    }
   ],
   "source": [
    "x=lambda a,b:(abs(a**2-b**2))\n",
    "print(x(5,7))"
   ]
  },
  {
   "cell_type": "markdown",
   "id": "97356433",
   "metadata": {},
   "source": [
    "<h4 style=\"color: rgb(149, 10, 67);\">Example 2:Write a lambda function returning first character of the string passed in it</h4>"
   ]
  },
  {
   "cell_type": "code",
   "execution_count": 14,
   "id": "c1711bf6",
   "metadata": {},
   "outputs": [
    {
     "name": "stdout",
     "output_type": "stream",
     "text": [
      "S\n"
     ]
    }
   ],
   "source": [
    "\n",
    "x=lambda a:(a[0])\n",
    "print(x(\"Simmi\"))"
   ]
  },
  {
   "cell_type": "markdown",
   "id": "fc0f04df",
   "metadata": {},
   "source": [
    "<h4 style=\"color: rgb(149, 10, 67);\">Example 3:Write a lambda function returning last character of the string passed in it</h4>"
   ]
  },
  {
   "cell_type": "code",
   "execution_count": 16,
   "id": "3b81328f",
   "metadata": {},
   "outputs": [
    {
     "name": "stdout",
     "output_type": "stream",
     "text": [
      "i\n"
     ]
    }
   ],
   "source": [
    "x=lambda a:(a[-1])\n",
    "print(x(\"Simmi\"))"
   ]
  },
  {
   "cell_type": "markdown",
   "id": "f63223ab",
   "metadata": {},
   "source": [
    "<h4 style=\"color: rgb(149, 10, 67);\">Example 4:Write a lambda function returning true if the positve interger is even else false.</h4>"
   ]
  },
  {
   "cell_type": "code",
   "execution_count": 21,
   "id": "6cbe924b",
   "metadata": {},
   "outputs": [
    {
     "name": "stdout",
     "output_type": "stream",
     "text": [
      "True\n"
     ]
    }
   ],
   "source": [
    "#Way 1\n",
    "E_O=lambda a:a%2==0\n",
    "print(E_O(24))"
   ]
  },
  {
   "cell_type": "code",
   "execution_count": 23,
   "id": "545b1bf4",
   "metadata": {},
   "outputs": [
    {
     "name": "stdout",
     "output_type": "stream",
     "text": [
      "False\n"
     ]
    }
   ],
   "source": [
    "#way 2\n",
    "E_O2=lambda n: False if n%2!=0 else True\n",
    "print(E_O2(7))"
   ]
  },
  {
   "cell_type": "markdown",
   "id": "2ac86456",
   "metadata": {},
   "source": [
    "<h4 style=\"color: rgb(149, 10, 67);\">Example 5: Write a lambda function to find the greatest of the two numbers</h4>"
   ]
  },
  {
   "cell_type": "code",
   "execution_count": 24,
   "id": "b1b5611c",
   "metadata": {},
   "outputs": [
    {
     "name": "stdout",
     "output_type": "stream",
     "text": [
      "6\n"
     ]
    }
   ],
   "source": [
    "# \n",
    "G_2=lambda a,b: b if b>a else a\n",
    "print(G_2(5,6))"
   ]
  },
  {
   "cell_type": "markdown",
   "id": "2d80e218",
   "metadata": {},
   "source": [
    "<h4><b>Uses of Lambda Function:</b></h4>\n",
    "    1. It can be used to define an anonymous function inside another function<br>\n",
    "    2. It is also used to sort and filter data<br> \n",
    "    3. It is also used to create higher-order function<br>\n",
    "    4. It is also used to simplify the code<br>"
   ]
  },
  {
   "cell_type": "markdown",
   "id": "c8fa95da",
   "metadata": {},
   "source": [
    "<h2 style=\"color:rgb(34, 138, 103)\">Map and Filter Function</h2>"
   ]
  },
  {
   "cell_type": "markdown",
   "id": "ee9a00ad",
   "metadata": {},
   "source": [
    "Map is a pre-defined function. map() accepts two areguments, a function and an interable. It performs function on each element of iterable and returns an iterable object containg results.Here is an example,"
   ]
  },
  {
   "cell_type": "code",
   "execution_count": 74,
   "id": "dd632a97",
   "metadata": {},
   "outputs": [
    {
     "name": "stdout",
     "output_type": "stream",
     "text": [
      "[1, 4, 16, 25, 36, 49]\n"
     ]
    }
   ],
   "source": [
    "list1=[1,2,4,5,6,7]\n",
    "print(list(map((lambda a:a**2),list1)))"
   ]
  },
  {
   "cell_type": "markdown",
   "id": "18213ed8",
   "metadata": {},
   "source": [
    "<h3 style=\"color: rgb(113, 20, 85);\">Q : WAP called inspect() that accepts string as an argument and returns the words \"EVEN\" if string is of even length else returns last letter of the string</h3> "
   ]
  },
  {
   "cell_type": "code",
   "execution_count": 75,
   "id": "ea130f71",
   "metadata": {},
   "outputs": [
    {
     "data": {
      "text/plain": [
       "['l', 'i', 'i', 'EVEN', 'g', 'EVEN']"
      ]
     },
     "execution_count": 75,
     "metadata": {},
     "output_type": "execute_result"
    }
   ],
   "source": [
    "list(map(lambda a: \"EVEN\" if len(a)%2==0 else a[-1],[\"Sheetal\",\"Simmi\",\"Shivani\",\"Vashnavi\",\"Umang\",\"Roma\"]))"
   ]
  },
  {
   "cell_type": "markdown",
   "id": "1f45369f",
   "metadata": {},
   "source": [
    "Hence, it can also be said that map() perfomrs a functionality on elements of an iterable or it filters out the values."
   ]
  },
  {
   "cell_type": "markdown",
   "id": "559ff81c",
   "metadata": {},
   "source": [
    "<h3 style=\"color: rgb(113, 20, 85);\">Q : Write a map function with lambda expression that accepts the name of the user and returns all vowels present in the name. If there is no vowel in the user's name then print \"No Vowel is Present\"</h3> \n"
   ]
  },
  {
   "cell_type": "code",
   "execution_count": 5,
   "id": "790e09b6",
   "metadata": {},
   "outputs": [
    {
     "name": "stdout",
     "output_type": "stream",
     "text": [
      "Enter your name : Simmi Sheetal Jain\n",
      "['i', 'i', 'e', 'e', 'a', 'a', 'i']\n"
     ]
    }
   ],
   "source": [
    "x=input(\"Enter your name : \")\n",
    "v=\"AEIOUaeiou\"\n",
    "ans=list(map(lambda c:c if c in v else None, x))\n",
    "#removing \"None\" from ans using list comprehension.\n",
    "ans=[char for char in ans if char is not None]\n",
    "if len(ans)!=0:\n",
    "    print(ans)\n",
    "else:\n",
    "    print(\"No Vowel is Present\")"
   ]
  },
  {
   "cell_type": "markdown",
   "id": "3c143526",
   "metadata": {},
   "source": [
    "Here, in the above question we used list comprehension to extrat only vowels in the ans. But for the same functionality we can use filter fucntion. here is an exmaple:"
   ]
  },
  {
   "cell_type": "code",
   "execution_count": 8,
   "id": "1d17f3db",
   "metadata": {},
   "outputs": [
    {
     "name": "stdout",
     "output_type": "stream",
     "text": [
      "Enter your name : Simmi sheetal jain\n",
      "['i', 'i', 'e', 'e', 'a', 'a', 'i']\n"
     ]
    }
   ],
   "source": [
    "x=input(\"Enter your name : \")\n",
    "v=\"AEIOUaeiou\"\n",
    "ans=list(filter(lambda c:c if c in v else None, x))\n",
    "if len(ans)==0:\n",
    "    print(\"No vowel is present\")\n",
    "else:\n",
    "    print(ans)\n"
   ]
  },
  {
   "cell_type": "markdown",
   "id": "f2f55ee7",
   "metadata": {},
   "source": [
    "<h4 style=\"color:brown;\">Filtering process:</h4>\n",
    "<br>\n",
    "The filter function applies the lambda function to each character in the input string x.<br>\n",
    "It keeps only the characters for which the lambda function returns True (i.e., the vowels)."
   ]
  },
  {
   "cell_type": "code",
   "execution_count": null,
   "id": "fe491152",
   "metadata": {},
   "outputs": [],
   "source": []
  }
 ],
 "metadata": {
  "kernelspec": {
   "display_name": "Python 3 (ipykernel)",
   "language": "python",
   "name": "python3"
  },
  "language_info": {
   "codemirror_mode": {
    "name": "ipython",
    "version": 3
   },
   "file_extension": ".py",
   "mimetype": "text/x-python",
   "name": "python",
   "nbconvert_exporter": "python",
   "pygments_lexer": "ipython3",
   "version": "3.11.4"
  }
 },
 "nbformat": 4,
 "nbformat_minor": 5
}
