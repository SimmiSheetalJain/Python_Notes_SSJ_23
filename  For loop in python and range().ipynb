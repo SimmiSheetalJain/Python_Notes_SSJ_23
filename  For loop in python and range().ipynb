{
 "cells": [
  {
   "cell_type": "markdown",
   "id": "3f652b50",
   "metadata": {},
   "source": [
    "\n",
    "# For loop in Python and range() function"
   ]
  },
  {
   "cell_type": "markdown",
   "id": "9f8f2572",
   "metadata": {},
   "source": [
    "#### For loop Syntax"
   ]
  },
  {
   "cell_type": "markdown",
   "id": "9906022c",
   "metadata": {},
   "source": [
    " for some_variable in some_collection:\n",
    "    \n",
    "    \n",
    "    ................\n",
    "    ................\n",
    "    ..loop body.....\n",
    "    ................\n",
    "    ................\n",
    "    "
   ]
  },
  {
   "cell_type": "code",
   "execution_count": 3,
   "id": "5ff18ccc",
   "metadata": {},
   "outputs": [
    {
     "name": "stdout",
     "output_type": "stream",
     "text": [
      "S h e e t a l   J a i n "
     ]
    }
   ],
   "source": [
    "name=\"Sheetal Jain\"\n",
    "for index in name:\n",
    "    print(index, end=\" \")"
   ]
  },
  {
   "cell_type": "markdown",
   "id": "eb28db44",
   "metadata": {},
   "source": [
    "Here bewbeen 'for' and 'in' keyword, we can take any variable. and variable 'index' is refering the indices of string name. "
   ]
  },
  {
   "cell_type": "markdown",
   "id": "0e2f8742",
   "metadata": {},
   "source": [
    "### Let us iterate for loop on a list"
   ]
  },
  {
   "cell_type": "code",
   "execution_count": 5,
   "id": "830809c7",
   "metadata": {},
   "outputs": [
    {
     "name": "stdout",
     "output_type": "stream",
     "text": [
      "Mango\n",
      "Apple\n",
      "Banana\n",
      "Watermelon\n",
      "Guava\n"
     ]
    }
   ],
   "source": [
    "items = [\"Mango\",\"Apple\",\"Banana\", \"Watermelon\",\"Guava\"]\n",
    "for index in items:\n",
    "    print(index)"
   ]
  },
  {
   "cell_type": "markdown",
   "id": "f91fc8c0",
   "metadata": {},
   "source": [
    "##### So as we can se, the code is printing element in the list. Here, index is directly refering to the elements of the list"
   ]
  },
  {
   "cell_type": "markdown",
   "id": "4c684845",
   "metadata": {},
   "source": [
    "### In 'for' loop, after the keyword 'in', there should an interable entity.Else, it would give an error."
   ]
  },
  {
   "cell_type": "code",
   "execution_count": 2,
   "id": "c37fb78c",
   "metadata": {},
   "outputs": [
    {
     "ename": "TypeError",
     "evalue": "'int' object is not iterable",
     "output_type": "error",
     "traceback": [
      "\u001b[1;31m---------------------------------------------------------------------------\u001b[0m",
      "\u001b[1;31mTypeError\u001b[0m                                 Traceback (most recent call last)",
      "Cell \u001b[1;32mIn[2], line 2\u001b[0m\n\u001b[0;32m      1\u001b[0m x\u001b[38;5;241m=\u001b[39m\u001b[38;5;241m1234\u001b[39m\n\u001b[1;32m----> 2\u001b[0m \u001b[38;5;28;01mfor\u001b[39;00m x \u001b[38;5;129;01min\u001b[39;00m x:\n\u001b[0;32m      3\u001b[0m     \u001b[38;5;28mprint\u001b[39m(x)\n",
      "\u001b[1;31mTypeError\u001b[0m: 'int' object is not iterable"
     ]
    }
   ],
   "source": [
    "x=1234\n",
    "for x in x:\n",
    "    print(x)"
   ]
  },
  {
   "cell_type": "markdown",
   "id": "c9f36dec",
   "metadata": {},
   "source": [
    "As it can be seen, 'x' is an int  object and isn't iterable."
   ]
  },
  {
   "cell_type": "markdown",
   "id": "a994e31f",
   "metadata": {},
   "source": [
    "### Use of 'else' block with for loop"
   ]
  },
  {
   "cell_type": "code",
   "execution_count": 5,
   "id": "135b6710",
   "metadata": {},
   "outputs": [
    {
     "name": "stdout",
     "output_type": "stream",
     "text": [
      "All element are not in the limit\n"
     ]
    }
   ],
   "source": [
    "a=[10,14,35,26]\n",
    "Lower_bound = 8\n",
    "upper_bound = 30\n",
    "for i in a:\n",
    "    if i < Lower_bound or i >  upper_bound:\n",
    "        print(\"All element are not in the limit\")\n",
    "        break\n",
    "else:\n",
    "    print(\"All element are in the limit\")"
   ]
  },
  {
   "cell_type": "markdown",
   "id": "bf0bcbbd",
   "metadata": {},
   "source": [
    "# The range()  Function"
   ]
  },
  {
   "cell_type": "markdown",
   "id": "6c9133e4",
   "metadata": {},
   "source": [
    " range() function is used to generate a sequence of numbers in the form of list.\n"
   ]
  },
  {
   "cell_type": "markdown",
   "id": "8f2b7c79",
   "metadata": {},
   "source": [
    "Range function can take three parameters: start, stop, steps. <br>\n",
    "Syntax: <br>\n",
    "range(start, stop, step)"
   ]
  },
  {
   "cell_type": "code",
   "execution_count": 13,
   "id": "673d76a8",
   "metadata": {},
   "outputs": [],
   "source": [
    "a=range(1,200,10)"
   ]
  },
  {
   "cell_type": "code",
   "execution_count": 14,
   "id": "a8cf6640",
   "metadata": {},
   "outputs": [
    {
     "name": "stdout",
     "output_type": "stream",
     "text": [
      "1\n",
      "11\n",
      "21\n",
      "31\n",
      "41\n",
      "51\n",
      "61\n",
      "71\n",
      "81\n",
      "91\n",
      "101\n",
      "111\n",
      "121\n",
      "131\n",
      "141\n",
      "151\n",
      "161\n",
      "171\n",
      "181\n",
      "191\n"
     ]
    }
   ],
   "source": [
    "for i in a:\n",
    "    print(i)"
   ]
  },
  {
   "cell_type": "markdown",
   "id": "95359ced",
   "metadata": {},
   "source": [
    "### The range() will make sequence for n-1 elements, where n is the number of element to be printed. Because it indexes number from 0."
   ]
  },
  {
   "cell_type": "code",
   "execution_count": 16,
   "id": "f51b9095",
   "metadata": {},
   "outputs": [
    {
     "name": "stdout",
     "output_type": "stream",
     "text": [
      "range(2, 100, 2)\n"
     ]
    }
   ],
   "source": [
    "x=range(2,100,2)\n",
    "print(x)"
   ]
  },
  {
   "cell_type": "raw",
   "id": "ada0e687",
   "metadata": {},
   "source": [
    "list(x)"
   ]
  },
  {
   "cell_type": "code",
   "execution_count": 17,
   "id": "bee14a13",
   "metadata": {},
   "outputs": [
    {
     "name": "stdout",
     "output_type": "stream",
     "text": [
      "2\n",
      "4\n",
      "6\n",
      "8\n",
      "10\n",
      "12\n",
      "14\n",
      "16\n",
      "18\n",
      "20\n",
      "22\n",
      "24\n",
      "26\n",
      "28\n",
      "30\n",
      "32\n",
      "34\n",
      "36\n",
      "38\n",
      "40\n",
      "42\n",
      "44\n",
      "46\n",
      "48\n",
      "50\n",
      "52\n",
      "54\n",
      "56\n",
      "58\n",
      "60\n",
      "62\n",
      "64\n",
      "66\n",
      "68\n",
      "70\n",
      "72\n",
      "74\n",
      "76\n",
      "78\n",
      "80\n",
      "82\n",
      "84\n",
      "86\n",
      "88\n",
      "90\n",
      "92\n",
      "94\n",
      "96\n",
      "98\n"
     ]
    }
   ],
   "source": [
    "for i in x:\n",
    "    print(i)"
   ]
  },
  {
   "cell_type": "markdown",
   "id": "173d6a9c",
   "metadata": {},
   "source": [
    "### range() function generates a sequence of no elements on giving an only one negtive parameter."
   ]
  },
  {
   "cell_type": "code",
   "execution_count": 21,
   "id": "9147cee3",
   "metadata": {},
   "outputs": [],
   "source": [
    "x=range(-10)"
   ]
  },
  {
   "cell_type": "code",
   "execution_count": 27,
   "id": "9e28ecf6",
   "metadata": {},
   "outputs": [
    {
     "name": "stdout",
     "output_type": "stream",
     "text": [
      "Loop completed\n"
     ]
    }
   ],
   "source": [
    "for i in x:\n",
    "    print(i)\n",
    "else:\n",
    "    print(\"Loop completed\")"
   ]
  },
  {
   "cell_type": "code",
   "execution_count": 25,
   "id": "86e7f7b3",
   "metadata": {},
   "outputs": [
    {
     "name": "stdout",
     "output_type": "stream",
     "text": [
      "1\n",
      "2\n",
      "3\n",
      "4\n",
      "5\n"
     ]
    }
   ],
   "source": [
    "y=range(1,6)\n",
    "for i in y:\n",
    "    print(i)"
   ]
  },
  {
   "cell_type": "code",
   "execution_count": 10,
   "id": "b40c6bf2",
   "metadata": {},
   "outputs": [
    {
     "data": {
      "text/plain": [
       "[-20,\n",
       " -19,\n",
       " -18,\n",
       " -17,\n",
       " -16,\n",
       " -15,\n",
       " -14,\n",
       " -13,\n",
       " -12,\n",
       " -11,\n",
       " -10,\n",
       " -9,\n",
       " -8,\n",
       " -7,\n",
       " -6,\n",
       " -5,\n",
       " -4,\n",
       " -3,\n",
       " -2,\n",
       " -1,\n",
       " 0,\n",
       " 1,\n",
       " 2,\n",
       " 3,\n",
       " 4,\n",
       " 5]"
      ]
     },
     "execution_count": 10,
     "metadata": {},
     "output_type": "execute_result"
    }
   ],
   "source": [
    "y=range(-20,6)\n",
    "list(y)\n"
   ]
  },
  {
   "cell_type": "code",
   "execution_count": 8,
   "id": "a051854e",
   "metadata": {},
   "outputs": [
    {
     "name": "stdout",
     "output_type": "stream",
     "text": [
      "Number of Elements: 26 \n"
     ]
    }
   ],
   "source": [
    "count=0\n",
    "for i in y:\n",
    "    count=count+1\n",
    "print(\"Number of Elements: {} \".format(count))"
   ]
  },
  {
   "cell_type": "markdown",
   "id": "f9ae4e22",
   "metadata": {},
   "source": [
    "##### Let us see some more examples on  range() function"
   ]
  },
  {
   "cell_type": "code",
   "execution_count": 11,
   "id": "384b288a",
   "metadata": {},
   "outputs": [
    {
     "data": {
      "text/plain": [
       "[-10, -9, -8, -7, -6, -5, -4]"
      ]
     },
     "execution_count": 11,
     "metadata": {},
     "output_type": "execute_result"
    }
   ],
   "source": [
    "n1=range(-10, -3)\n",
    "list(n1)"
   ]
  },
  {
   "cell_type": "code",
   "execution_count": 13,
   "id": "bf509c1c",
   "metadata": {},
   "outputs": [
    {
     "data": {
      "text/plain": [
       "[-22, -20, -18, -16, -14, -12, -10, -8, -6, -4, -2]"
      ]
     },
     "execution_count": 13,
     "metadata": {},
     "output_type": "execute_result"
    }
   ],
   "source": [
    "n2=range(-22, -1, 2)\n",
    "list(n2)"
   ]
  },
  {
   "cell_type": "markdown",
   "id": "e720726b",
   "metadata": {},
   "source": [
    "#### Note: 3rd argument should not be zero."
   ]
  },
  {
   "cell_type": "code",
   "execution_count": 15,
   "id": "40e2b8ec",
   "metadata": {},
   "outputs": [
    {
     "ename": "ValueError",
     "evalue": "range() arg 3 must not be zero",
     "output_type": "error",
     "traceback": [
      "\u001b[1;31m---------------------------------------------------------------------------\u001b[0m",
      "\u001b[1;31mValueError\u001b[0m                                Traceback (most recent call last)",
      "Cell \u001b[1;32mIn[15], line 1\u001b[0m\n\u001b[1;32m----> 1\u001b[0m n3\u001b[38;5;241m=\u001b[39m\u001b[38;5;28mrange\u001b[39m(\u001b[38;5;241m-\u001b[39m\u001b[38;5;241m5\u001b[39m,\u001b[38;5;241m19\u001b[39m,\u001b[38;5;241m0\u001b[39m)\n\u001b[0;32m      2\u001b[0m \u001b[38;5;28mlist\u001b[39m(n3)\n",
      "\u001b[1;31mValueError\u001b[0m: range() arg 3 must not be zero"
     ]
    }
   ],
   "source": [
    "n3=range(-5,19,0)\n",
    "list(n3)"
   ]
  },
  {
   "cell_type": "markdown",
   "id": "373fa968",
   "metadata": {},
   "source": [
    "### Mini Project: Generate Prime Numbers Using Charles Babbage Fucntion"
   ]
  },
  {
   "cell_type": "markdown",
   "id": "d5140685",
   "metadata": {},
   "source": [
    "T = X^2 + X + 41 <br> \n",
    "The above formula generates a sequence of values for 'T'. Which happens to be prime number. <br>\n",
    "Example :  \n",
    "<hr style=\"width:38%;text-align:left;margin-left:0;height:3px\">\n",
    "<b>|&emsp;&emsp;T=X^2 + X + 41</b><b>&emsp;&emsp;|&emsp;&emsp; Value of X&emsp;&emsp;|</b><br>\n",
    "<hr style=\"width:38%;text-align:left;margin-left:0;height:3px\">\n",
    "|&emsp;&emsp;&emsp;&emsp;&emsp;&emsp;41&emsp;&emsp;&emsp;&emsp;|&emsp;&emsp;&emsp;&emsp;0&emsp;&emsp;&emsp;&emsp;|<br>\n",
    "|&emsp;&emsp;&emsp;&emsp;&emsp;&emsp;43&emsp;&emsp;&emsp;&emsp;|&emsp;&emsp;&emsp;&emsp;1&emsp;&emsp;&emsp;&emsp;|<br>\n",
    "|&emsp;&emsp;&emsp;&emsp;&emsp;&emsp;47&emsp;&emsp;&emsp;&emsp;|&emsp;&emsp;&emsp;&emsp;2&emsp;&emsp;&emsp;&emsp;|<br>\n",
    "|&emsp;&emsp;&emsp;&emsp;&emsp;&emsp;53&emsp;&emsp;&emsp;&emsp;|&emsp;&emsp;&emsp;&emsp;3&emsp;&emsp;&emsp;&emsp;|<br>\n",
    "|&emsp;&emsp;&emsp;&emsp;&emsp;&emsp;61&emsp;&emsp;&emsp;&emsp;|&emsp;&emsp;&emsp;&emsp;4&emsp;&emsp;&emsp;&emsp;|<br>\n",
    "<hr style=\"width:38%;text-align:left;margin-left:0;height:3px\">"
   ]
  },
  {
   "cell_type": "markdown",
   "id": "81d54edc",
   "metadata": {},
   "source": [
    "### Q: WAP to generate prime numbers using the Charles Babbage Formula. The Output should be as shown in the above table and should read value of X from the user."
   ]
  },
  {
   "cell_type": "code",
   "execution_count": 4,
   "id": "80fe5d56",
   "metadata": {},
   "outputs": [
    {
     "name": "stdout",
     "output_type": "stream",
     "text": [
      "How many prime numbers do you want to print?  7\n",
      "    X    |    T    \n",
      "___________________\n",
      "    0    |    41    \n",
      "    1    |    43    \n",
      "    2    |    47    \n",
      "    3    |    53    \n",
      "    4    |    61    \n",
      "    5    |    71    \n",
      "    6    |    83    \n"
     ]
    }
   ],
   "source": [
    "x=int(input(\"How many prime numbers do you want to print?  \"))\n",
    "print(\"    X    |    T    \")\n",
    "print(\"___________________\")\n",
    "for i in range(0,x):\n",
    "    T= i**2+i+41\n",
    "    print(f\"    {i}    |    {T}    \")"
   ]
  },
  {
   "cell_type": "markdown",
   "id": "3c769064",
   "metadata": {},
   "source": [
    "#### Questions"
   ]
  },
  {
   "cell_type": "markdown",
   "id": "2eb7942a",
   "metadata": {},
   "source": [
    "Q1:  What is the output of the below program<br>\n",
    "&emsp;&emsp;my_str = \"I Love My India\"<br>\n",
    "&emsp;&emsp;count = 0<br>\n",
    "&emsp;&emsp;for char in my_str:<br>\n",
    "&emsp;&emsp;&emsp;count=count+1<br>\n",
    "&emsp;&emsp;&emsp;if char==\"E\":<br>\n",
    "&emsp;&emsp;&emsp;&emsp;break<br>\n",
    "&emsp;&emsp;print(count)\n",
    "\n"
   ]
  },
  {
   "cell_type": "code",
   "execution_count": 9,
   "id": "73cfa4e4",
   "metadata": {},
   "outputs": [
    {
     "name": "stdout",
     "output_type": "stream",
     "text": [
      "6\n"
     ]
    }
   ],
   "source": [
    "my_str = \"I Love My India\"\n",
    "count = 0\n",
    "for char in my_str:\n",
    "    count=count+1\n",
    "    if char==\"e\":\n",
    "        break\n",
    "print(count)"
   ]
  },
  {
   "cell_type": "code",
   "execution_count": null,
   "id": "4b14ae5e",
   "metadata": {},
   "outputs": [],
   "source": []
  }
 ],
 "metadata": {
  "kernelspec": {
   "display_name": "Python 3 (ipykernel)",
   "language": "python",
   "name": "python3"
  },
  "language_info": {
   "codemirror_mode": {
    "name": "ipython",
    "version": 3
   },
   "file_extension": ".py",
   "mimetype": "text/x-python",
   "name": "python",
   "nbconvert_exporter": "python",
   "pygments_lexer": "ipython3",
   "version": "3.11.4"
  }
 },
 "nbformat": 4,
 "nbformat_minor": 5
}
