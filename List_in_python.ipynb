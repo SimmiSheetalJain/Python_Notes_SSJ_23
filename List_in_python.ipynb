{
 "cells": [
  {
   "cell_type": "markdown",
   "id": "2b1a04e3",
   "metadata": {},
   "source": [
    "# List in Python"
   ]
  },
  {
   "cell_type": "markdown",
   "id": "8d907c6d",
   "metadata": {},
   "source": [
    "List is sequence of objects of different data types. Like in java, C++ and in \n",
    "other programming languages, we have array as a sequence of object, in pyhton \n",
    "we use list data type. a list is defined using square brackets. List is a mutable array i.e.  we can change the data type of an object stored at a particular index."
   ]
  },
  {
   "cell_type": "markdown",
   "id": "24b40ee6",
   "metadata": {},
   "source": [
    "For exammple :  "
   ]
  },
  {
   "cell_type": "code",
   "execution_count": 9,
   "id": "a148e422",
   "metadata": {},
   "outputs": [],
   "source": [
    "a=[123123, \"Sheetal Jain\", \"MCA(AIML)\"]"
   ]
  },
  {
   "cell_type": "code",
   "execution_count": 10,
   "id": "95c21e7f",
   "metadata": {},
   "outputs": [
    {
     "data": {
      "text/plain": [
       "list"
      ]
     },
     "execution_count": 10,
     "metadata": {},
     "output_type": "execute_result"
    }
   ],
   "source": [
    "type(a)"
   ]
  },
  {
   "cell_type": "markdown",
   "id": "b39a7286",
   "metadata": {},
   "source": [
    "#### A list can be accessed using both forward as well as backward indexing."
   ]
  },
  {
   "cell_type": "markdown",
   "id": "f75fe855",
   "metadata": {},
   "source": [
    "For example:"
   ]
  },
  {
   "cell_type": "code",
   "execution_count": 11,
   "id": "108290cd",
   "metadata": {},
   "outputs": [
    {
     "name": "stdout",
     "output_type": "stream",
     "text": [
      "Watermelon\n",
      "Watermelon\n"
     ]
    }
   ],
   "source": [
    "items = [\"apple\", \"Banana\" , \"Guava\" , \"Watermelon\" , \"Muskmelon\"]\n",
    "print(items[3])\n",
    "print(items[-2])"
   ]
  },
  {
   "cell_type": "markdown",
   "id": "8c85b082",
   "metadata": {},
   "source": [
    "Explantion: As we can see, if we start forward indexing with 0, index number 3rd refers watermelon and if we start backward indexing with -1, element with index -2 is again water melon. Hence, the output shows us \"watermelon\" twice"
   ]
  },
  {
   "cell_type": "markdown",
   "id": "9cceb7a4",
   "metadata": {},
   "source": [
    "## Mutability"
   ]
  },
  {
   "cell_type": "code",
   "execution_count": 26,
   "id": "64a6b3ef",
   "metadata": {},
   "outputs": [
    {
     "data": {
      "text/plain": [
       "str"
      ]
     },
     "execution_count": 26,
     "metadata": {},
     "output_type": "execute_result"
    }
   ],
   "source": [
    "student_1 = [2,\"Sheetal\",9.34]\n",
    "type(student_1)\n",
    "type(student_1[1])"
   ]
  },
  {
   "cell_type": "code",
   "execution_count": 29,
   "id": "bb77d78e",
   "metadata": {},
   "outputs": [
    {
     "data": {
      "text/plain": [
       "int"
      ]
     },
     "execution_count": 29,
     "metadata": {},
     "output_type": "execute_result"
    }
   ],
   "source": [
    "student_1[i] = 1232\n",
    "type(student_1[i])"
   ]
  },
  {
   "cell_type": "markdown",
   "id": "f31b07e7",
   "metadata": {},
   "source": [
    "As it can be seen, we changed the data type of object at index number 1 in the sudent_1 list"
   ]
  },
  {
   "cell_type": "markdown",
   "id": "704db91f",
   "metadata": {},
   "source": [
    "## list() function"
   ]
  },
  {
   "cell_type": "markdown",
   "id": "35a9ef5a",
   "metadata": {},
   "source": [
    "Like int(), str(), float() etc. we have list() function. We can pass an iterable object inside list() function and convert it into a list."
   ]
  },
  {
   "cell_type": "code",
   "execution_count": 1,
   "id": "62665fb0",
   "metadata": {},
   "outputs": [],
   "source": [
    "myName=\"SimmiSheetalJain\"\n",
    "new=list(myName)"
   ]
  },
  {
   "cell_type": "code",
   "execution_count": 2,
   "id": "9c80134a",
   "metadata": {},
   "outputs": [
    {
     "data": {
      "text/plain": [
       "list"
      ]
     },
     "execution_count": 2,
     "metadata": {},
     "output_type": "execute_result"
    }
   ],
   "source": [
    "type(new)"
   ]
  },
  {
   "cell_type": "markdown",
   "id": "91c5787e",
   "metadata": {},
   "source": [
    "### How to read a list using \"for\" loop:"
   ]
  },
  {
   "cell_type": "code",
   "execution_count": 4,
   "id": "6714e1b3",
   "metadata": {},
   "outputs": [
    {
     "name": "stdout",
     "output_type": "stream",
     "text": [
      "S\n",
      "h\n",
      "e\n",
      "e\n",
      "t\n",
      "a\n",
      "l\n",
      " \n",
      "J\n",
      "a\n",
      "i\n",
      "n\n"
     ]
    }
   ],
   "source": [
    "mylist = \"Sheetal Jain\"\n",
    "for i in mylist:\n",
    "    print(i)"
   ]
  },
  {
   "cell_type": "markdown",
   "id": "5383ca38",
   "metadata": {},
   "source": [
    "### How slicing is applied on a list:"
   ]
  },
  {
   "cell_type": "code",
   "execution_count": 5,
   "id": "adbb34f1",
   "metadata": {},
   "outputs": [
    {
     "name": "stdout",
     "output_type": "stream",
     "text": [
      "['S', 'i', 'm', 'm', 'i', 'S', 'h', 'e', 'e', 't', 'a', 'l', 'J', 'a', 'i', 'n']\n"
     ]
    }
   ],
   "source": [
    "#Example 1\n",
    "print(new[0:])"
   ]
  },
  {
   "cell_type": "markdown",
   "id": "4dbfb296",
   "metadata": {},
   "source": [
    "So, we can see the string entered by me has been broken in list and element \n",
    "the list are nothing but charater of string."
   ]
  },
  {
   "cell_type": "code",
   "execution_count": 9,
   "id": "4edd8cbe",
   "metadata": {},
   "outputs": [
    {
     "data": {
      "text/plain": [
       "[]"
      ]
     },
     "execution_count": 9,
     "metadata": {},
     "output_type": "execute_result"
    }
   ],
   "source": [
    "#Example 2\n",
    "list2=[10,20,30,40,50]\n",
    "list2[2:2]"
   ]
  },
  {
   "cell_type": "code",
   "execution_count": 10,
   "id": "e11e368a",
   "metadata": {},
   "outputs": [
    {
     "data": {
      "text/plain": [
       "[30, 40, 50]"
      ]
     },
     "execution_count": 10,
     "metadata": {},
     "output_type": "execute_result"
    }
   ],
   "source": [
    "#Example 3\n",
    "list2[2:8]"
   ]
  },
  {
   "cell_type": "markdown",
   "id": "e88a7893",
   "metadata": {},
   "source": [
    "### Some  More complex Examples of List Slicing"
   ]
  },
  {
   "cell_type": "code",
   "execution_count": 3,
   "id": "6a4bb03e",
   "metadata": {},
   "outputs": [
    {
     "name": "stdout",
     "output_type": "stream",
     "text": [
      "[1, 2, 3, 4]\n",
      "[6, 5, 4, 3, 2, 1]\n",
      "[5, 6]\n"
     ]
    }
   ],
   "source": [
    "#Example\n",
    "list1=[1,2,3,4,5,6]\n",
    "#Accesing first n elements \n",
    "print(list1[:4])  #Accesing First 4 elements of list1\n",
    "#Reversing a list in python \n",
    "print(list1[::-1])\n",
    "#printing last n elements, to do so only mention start index.\n",
    "print(list1[4:])\n"
   ]
  },
  {
   "cell_type": "markdown",
   "id": "d62b61b6",
   "metadata": {},
   "source": [
    "### How to make a list by passing data directly in the list function:"
   ]
  },
  {
   "cell_type": "code",
   "execution_count": 2,
   "id": "07e059f3",
   "metadata": {},
   "outputs": [
    {
     "data": {
      "text/plain": [
       "[10, 20, 30]"
      ]
     },
     "execution_count": 2,
     "metadata": {},
     "output_type": "execute_result"
    }
   ],
   "source": [
    "#Example 1\n",
    "list((10,20,30))"
   ]
  },
  {
   "cell_type": "code",
   "execution_count": 3,
   "id": "9aa3e1c3",
   "metadata": {},
   "outputs": [
    {
     "data": {
      "text/plain": [
       "['Sheetal', 'Sachin', 'Shivani', 'Sharda']"
      ]
     },
     "execution_count": 3,
     "metadata": {},
     "output_type": "execute_result"
    }
   ],
   "source": [
    "#Example 2\n",
    "list((\"Sheetal\",\"Sachin\",\"Shivani\",\"Sharda\"))"
   ]
  },
  {
   "cell_type": "code",
   "execution_count": 4,
   "id": "4a1e2074",
   "metadata": {},
   "outputs": [
    {
     "data": {
      "text/plain": [
       "['Anuj', 10, 4589, 9865321456]"
      ]
     },
     "execution_count": 4,
     "metadata": {},
     "output_type": "execute_result"
    }
   ],
   "source": [
    "#Example 3\n",
    "list((\"Anuj\",10,4589,9865321456))"
   ]
  },
  {
   "cell_type": "code",
   "execution_count": 8,
   "id": "53c3de69",
   "metadata": {},
   "outputs": [
    {
     "name": "stdout",
     "output_type": "stream",
     "text": [
      "['l', 'a', 't', 'e', 'e', 'h', 'S']\n"
     ]
    }
   ],
   "source": [
    "#example 4\n",
    "list1=list(\"Sheetal\")\n",
    "print(list1[-1:-8:-1])"
   ]
  },
  {
   "cell_type": "markdown",
   "id": "a053899b",
   "metadata": {},
   "source": [
    "### Modifying existing element or elements of a list"
   ]
  },
  {
   "cell_type": "markdown",
   "id": "f50f1f1e",
   "metadata": {},
   "source": [
    "#### To modify a single element, we can use forward or backward indexing to access an existing element and then can make changes in the value of that element."
   ]
  },
  {
   "cell_type": "code",
   "execution_count": 10,
   "id": "a2a09b6b",
   "metadata": {},
   "outputs": [],
   "source": [
    "list2=list('Anjali Jain')"
   ]
  },
  {
   "cell_type": "code",
   "execution_count": 14,
   "id": "a26784df",
   "metadata": {},
   "outputs": [],
   "source": [
    "list2[1]=\"Ravi\" "
   ]
  },
  {
   "cell_type": "code",
   "execution_count": 15,
   "id": "e80e1a39",
   "metadata": {},
   "outputs": [
    {
     "name": "stdout",
     "output_type": "stream",
     "text": [
      "A\n",
      "Ravi\n",
      "j\n",
      "a\n",
      "l\n",
      "i\n",
      " \n",
      "J\n",
      "a\n",
      "i\n",
      "n\n"
     ]
    }
   ],
   "source": [
    "for i in list2:\n",
    "    print(i)"
   ]
  },
  {
   "cell_type": "markdown",
   "id": "c747a243",
   "metadata": {},
   "source": [
    "#### To modify more than one existing element in a list use slicing:"
   ]
  },
  {
   "cell_type": "code",
   "execution_count": 16,
   "id": "777ac972",
   "metadata": {},
   "outputs": [
    {
     "data": {
      "text/plain": [
       "['a', 'l', 'i', ' ']"
      ]
     },
     "execution_count": 16,
     "metadata": {},
     "output_type": "execute_result"
    }
   ],
   "source": [
    "#Example\n",
    "list2[3:7]"
   ]
  },
  {
   "cell_type": "code",
   "execution_count": 17,
   "id": "636fce19",
   "metadata": {},
   "outputs": [],
   "source": [
    "list2[3:6]=[\"I\",\"Am\",\"SSJ\"]"
   ]
  },
  {
   "cell_type": "code",
   "execution_count": 18,
   "id": "132e4bee",
   "metadata": {},
   "outputs": [
    {
     "data": {
      "text/plain": [
       "['A', 'Ravi', 'j', 'I', 'Am', 'SSJ', ' ', 'J', 'a', 'i', 'n']"
      ]
     },
     "execution_count": 18,
     "metadata": {},
     "output_type": "execute_result"
    }
   ],
   "source": [
    "list2"
   ]
  },
  {
   "cell_type": "markdown",
   "id": "a2b7cd92",
   "metadata": {},
   "source": [
    "## Concatenating two or more list:"
   ]
  },
  {
   "cell_type": "markdown",
   "id": "20d5b08f",
   "metadata": {},
   "source": [
    "We can concatenate two strings using '+' operator. In the sane way, we can concatenate list also using '+' operator."
   ]
  },
  {
   "cell_type": "code",
   "execution_count": 21,
   "id": "97af6c1f",
   "metadata": {},
   "outputs": [
    {
     "name": "stdout",
     "output_type": "stream",
     "text": [
      "Lion\n",
      "Tiger\n",
      "wolf\n",
      "Cow\n",
      "Buffalo\n",
      "Goat\n"
     ]
    }
   ],
   "source": [
    "# Example 1\n",
    "wild_animals = [\"Lion\",\"Tiger\",\"wolf\"]\n",
    "domestic_animals = [\"Cow\",\"Buffalo\",\"Goat\"]\n",
    "animals=wild_animals+domestic_animals\n",
    "for k in animals:\n",
    "    print(k)"
   ]
  },
  {
   "cell_type": "markdown",
   "id": "f74cfa02",
   "metadata": {},
   "source": [
    "##### To append element in the list we can follow below approaches: "
   ]
  },
  {
   "cell_type": "code",
   "execution_count": 22,
   "id": "f7608dc9",
   "metadata": {},
   "outputs": [
    {
     "data": {
      "text/plain": [
       "['Lion', 'Tiger', 'wolf', 'Cow', 'Buffalo', 'Goat', 'Elephant']"
      ]
     },
     "execution_count": 22,
     "metadata": {},
     "output_type": "execute_result"
    }
   ],
   "source": [
    "#Example 1\n",
    "animals+list([\"Elephant\"])"
   ]
  },
  {
   "cell_type": "code",
   "execution_count": 23,
   "id": "17dea01f",
   "metadata": {},
   "outputs": [],
   "source": [
    "#Example 2\n",
    "Myteam1=[\"Sachin\",\"Sheetal\"]"
   ]
  },
  {
   "cell_type": "code",
   "execution_count": 31,
   "id": "b763c717",
   "metadata": {},
   "outputs": [
    {
     "data": {
      "text/plain": [
       "['Sachin', 'Sheetal']"
      ]
     },
     "execution_count": 31,
     "metadata": {},
     "output_type": "execute_result"
    }
   ],
   "source": [
    "Myteam1"
   ]
  },
  {
   "cell_type": "code",
   "execution_count": 32,
   "id": "b1033aad",
   "metadata": {},
   "outputs": [],
   "source": [
    "myNewTeam=Myteam1+list([\"Devesh\"])"
   ]
  },
  {
   "cell_type": "code",
   "execution_count": 33,
   "id": "211f3a0a",
   "metadata": {},
   "outputs": [
    {
     "data": {
      "text/plain": [
       "['Sachin', 'Sheetal', 'Devesh']"
      ]
     },
     "execution_count": 33,
     "metadata": {},
     "output_type": "execute_result"
    }
   ],
   "source": [
    "myNewTeam"
   ]
  },
  {
   "cell_type": "code",
   "execution_count": 34,
   "id": "22d35bb4",
   "metadata": {},
   "outputs": [],
   "source": [
    "#Example 3\n",
    "myNewTeam1=myNewTeam+[\"Aarti\"]"
   ]
  },
  {
   "cell_type": "code",
   "execution_count": 35,
   "id": "f0ce5257",
   "metadata": {},
   "outputs": [
    {
     "data": {
      "text/plain": [
       "['Sachin', 'Sheetal', 'Devesh', 'Aarti']"
      ]
     },
     "execution_count": 35,
     "metadata": {},
     "output_type": "execute_result"
    }
   ],
   "source": [
    "myNewTeam1"
   ]
  },
  {
   "cell_type": "markdown",
   "id": "23ebc2e6",
   "metadata": {},
   "source": [
    "## Use of Membership operator in list"
   ]
  },
  {
   "cell_type": "code",
   "execution_count": 37,
   "id": "a5d0729d",
   "metadata": {},
   "outputs": [
    {
     "data": {
      "text/plain": [
       "True"
      ]
     },
     "execution_count": 37,
     "metadata": {},
     "output_type": "execute_result"
    }
   ],
   "source": [
    "#Example 1\n",
    "'Sachin' in myNewTeam1"
   ]
  },
  {
   "cell_type": "code",
   "execution_count": 39,
   "id": "c51f08d2",
   "metadata": {},
   "outputs": [
    {
     "data": {
      "text/plain": [
       "False"
      ]
     },
     "execution_count": 39,
     "metadata": {},
     "output_type": "execute_result"
    }
   ],
   "source": [
    "#Example 2\n",
    "'Sheetal' not in myNewTeam1"
   ]
  },
  {
   "cell_type": "markdown",
   "id": "c8ef4afd",
   "metadata": {},
   "source": [
    "# List Function and Methods"
   ]
  },
  {
   "cell_type": "markdown",
   "id": "d1ce014d",
   "metadata": {},
   "source": [
    "### List Functions"
   ]
  },
  {
   "cell_type": "markdown",
   "id": "b6d6720b",
   "metadata": {},
   "source": [
    "1. len()\n",
    "2. max()\n",
    "3. min()\n",
    "4. sum()\n",
    "5. sorted()\n",
    "6. any()\n",
    "7. all()\n",
    "8. list()"
   ]
  },
  {
   "cell_type": "markdown",
   "id": "aaf22100",
   "metadata": {},
   "source": [
    "#### Example 1"
   ]
  },
  {
   "cell_type": "code",
   "execution_count": 43,
   "id": "d9b5242d",
   "metadata": {},
   "outputs": [
    {
     "data": {
      "text/plain": [
       "9"
      ]
     },
     "execution_count": 43,
     "metadata": {},
     "output_type": "execute_result"
    }
   ],
   "source": [
    "mynums=[2,7,1,3,6,78,88,56,34]\n",
    "len(mynums)"
   ]
  },
  {
   "cell_type": "code",
   "execution_count": 44,
   "id": "104d4a64",
   "metadata": {},
   "outputs": [
    {
     "data": {
      "text/plain": [
       "88"
      ]
     },
     "execution_count": 44,
     "metadata": {},
     "output_type": "execute_result"
    }
   ],
   "source": [
    "max(mynums)"
   ]
  },
  {
   "cell_type": "code",
   "execution_count": 45,
   "id": "9097abcb",
   "metadata": {},
   "outputs": [
    {
     "data": {
      "text/plain": [
       "1"
      ]
     },
     "execution_count": 45,
     "metadata": {},
     "output_type": "execute_result"
    }
   ],
   "source": [
    "min(mynums)"
   ]
  },
  {
   "cell_type": "code",
   "execution_count": 46,
   "id": "a6e93770",
   "metadata": {},
   "outputs": [
    {
     "data": {
      "text/plain": [
       "275"
      ]
     },
     "execution_count": 46,
     "metadata": {},
     "output_type": "execute_result"
    }
   ],
   "source": [
    "sum(mynums)"
   ]
  },
  {
   "cell_type": "code",
   "execution_count": 47,
   "id": "a26b35fc",
   "metadata": {},
   "outputs": [
    {
     "data": {
      "text/plain": [
       "[1, 2, 3, 6, 7, 34, 56, 78, 88]"
      ]
     },
     "execution_count": 47,
     "metadata": {},
     "output_type": "execute_result"
    }
   ],
   "source": [
    "sorted(mynums)"
   ]
  },
  {
   "cell_type": "code",
   "execution_count": 48,
   "id": "9782a56e",
   "metadata": {},
   "outputs": [
    {
     "data": {
      "text/plain": [
       "[88, 78, 56, 34, 7, 6, 3, 2, 1]"
      ]
     },
     "execution_count": 48,
     "metadata": {},
     "output_type": "execute_result"
    }
   ],
   "source": [
    "sorted(mynums, reverse=True)"
   ]
  },
  {
   "cell_type": "markdown",
   "id": "a7b53fab",
   "metadata": {},
   "source": [
    "##### Only 0, 0.0, False, 0+0j are false and rest of the values apart from these are true."
   ]
  },
  {
   "cell_type": "markdown",
   "id": "64c93f96",
   "metadata": {},
   "source": [
    "#### all() function returns true if all values are true else it returns false"
   ]
  },
  {
   "cell_type": "code",
   "execution_count": 49,
   "id": "1ffd201e",
   "metadata": {},
   "outputs": [
    {
     "data": {
      "text/plain": [
       "True"
      ]
     },
     "execution_count": 49,
     "metadata": {},
     "output_type": "execute_result"
    }
   ],
   "source": [
    "#Example 1\n",
    "all(mynums)"
   ]
  },
  {
   "cell_type": "code",
   "execution_count": 54,
   "id": "d3428e14",
   "metadata": {},
   "outputs": [
    {
     "data": {
      "text/plain": [
       "False"
      ]
     },
     "execution_count": 54,
     "metadata": {},
     "output_type": "execute_result"
    }
   ],
   "source": [
    "#Example 2\n",
    "newMyNums=mynums+[0.0]\n",
    "all(newMyNums)"
   ]
  },
  {
   "cell_type": "markdown",
   "id": "58f2378b",
   "metadata": {},
   "source": [
    "any() returns true if atleast one element is true, and if all elements are false it returns false."
   ]
  },
  {
   "cell_type": "code",
   "execution_count": 55,
   "id": "52a5e8f3",
   "metadata": {},
   "outputs": [
    {
     "data": {
      "text/plain": [
       "True"
      ]
     },
     "execution_count": 55,
     "metadata": {},
     "output_type": "execute_result"
    }
   ],
   "source": [
    "#Example 1\n",
    "any(newMyNums)"
   ]
  },
  {
   "cell_type": "code",
   "execution_count": 57,
   "id": "4f51667d",
   "metadata": {},
   "outputs": [
    {
     "data": {
      "text/plain": [
       "False"
      ]
     },
     "execution_count": 57,
     "metadata": {},
     "output_type": "execute_result"
    }
   ],
   "source": [
    "#example 2\n",
    "list3=[0,0.0,False,0+0j]\n",
    "any(list3)"
   ]
  },
  {
   "cell_type": "markdown",
   "id": "8cc6e14c",
   "metadata": {},
   "source": [
    "### List Methods"
   ]
  },
  {
   "cell_type": "code",
   "execution_count": null,
   "id": "1b22179c",
   "metadata": {},
   "outputs": [],
   "source": [
    "1. append()\n",
    "2. extend()\n",
    "3. insert()\n",
    "4. count()\n",
    "5. remove()\n",
    "6. pop()\n",
    "7. clear()\n",
    "8. reverse()\n",
    "9. sort()\n",
    "10. index()\n"
   ]
  },
  {
   "cell_type": "code",
   "execution_count": 59,
   "id": "862e3c74",
   "metadata": {},
   "outputs": [
    {
     "name": "stdout",
     "output_type": "stream",
     "text": [
      "Ak\n",
      "Al\n",
      "Ar\n",
      "Ap\n",
      "Aq\n",
      "At\n",
      "SJ\n"
     ]
    }
   ],
   "source": [
    "#append is used to add \n",
    "list4=[\"Ak\",\"Al\",\"Ar\",\"Ap\",\"Aq\",\"At\"]\n",
    "list4.append(\"SJ\")\n",
    "for i in list4:\n",
    "    print(i)"
   ]
  },
  {
   "cell_type": "code",
   "execution_count": 66,
   "id": "84098f34",
   "metadata": {},
   "outputs": [],
   "source": [
    "#extend() method is used for concatenating two list i.e. for extending a list.\n",
    "#Example 1\n",
    "list5=[\"Seema\",\"Sadhan\",\"Chinku\"]\n",
    "list4.extend(list5)"
   ]
  },
  {
   "cell_type": "code",
   "execution_count": 67,
   "id": "80eab119",
   "metadata": {},
   "outputs": [
    {
     "data": {
      "text/plain": [
       "['Ak',\n",
       " 'Al',\n",
       " 'Ar',\n",
       " 'Ap',\n",
       " 'Aq',\n",
       " 'At',\n",
       " 'SJ',\n",
       " 'Seema',\n",
       " 'Sadhan',\n",
       " 'Chinku',\n",
       " 'Seema',\n",
       " 'Sadhan',\n",
       " 'Chinku',\n",
       " 'Seema',\n",
       " 'Sadhan',\n",
       " 'Chinku',\n",
       " 'Seema',\n",
       " 'Sadhan',\n",
       " 'Chinku',\n",
       " 'Seema',\n",
       " 'Sadhan',\n",
       " 'Chinku']"
      ]
     },
     "execution_count": 67,
     "metadata": {},
     "output_type": "execute_result"
    }
   ],
   "source": [
    "list4"
   ]
  },
  {
   "cell_type": "code",
   "execution_count": 68,
   "id": "0d73390f",
   "metadata": {},
   "outputs": [
    {
     "name": "stdout",
     "output_type": "stream",
     "text": [
      "Ak\n",
      "Al\n",
      "Ar\n",
      "Ap\n",
      "Aq\n",
      "At\n",
      "SJ\n",
      "Seema\n",
      "Sadhan\n",
      "Chinku\n",
      "Seema\n",
      "Sadhan\n",
      "Chinku\n",
      "Seema\n",
      "Sadhan\n",
      "Chinku\n",
      "Seema\n",
      "Sadhan\n",
      "Chinku\n",
      "Seema\n",
      "Sadhan\n",
      "Chinku\n"
     ]
    }
   ],
   "source": [
    "for i in list4:\n",
    "    print(i)"
   ]
  },
  {
   "cell_type": "markdown",
   "id": "8a48f512",
   "metadata": {},
   "source": [
    "#### Note:in extend function we can pass only an iterable object"
   ]
  },
  {
   "cell_type": "markdown",
   "id": "e895cf2c",
   "metadata": {},
   "source": [
    "### Before moving forward let us learn about nested index"
   ]
  },
  {
   "cell_type": "code",
   "execution_count": 1,
   "id": "b1d1659d",
   "metadata": {},
   "outputs": [
    {
     "name": "stdout",
     "output_type": "stream",
     "text": [
      "1\n",
      "2\n",
      "3\n",
      "4\n",
      "5\n",
      "[6, 7, 8, 9, 10]\n",
      "[1, 2, 3, 4, 5, [6, 7, 8, 9, 10]]\n"
     ]
    }
   ],
   "source": [
    "list6=[1,2,3,4,5]\n",
    "list7=[6,7,8,9,10]\n",
    "list6.append(list7)\n",
    "for j in list6:\n",
    "    print(j)\n",
    "print(list6)"
   ]
  },
  {
   "cell_type": "code",
   "execution_count": 2,
   "id": "8d5dc9a1",
   "metadata": {},
   "outputs": [],
   "source": [
    "list8=[6.1,6.2,6.3,6.4,6.5]\n",
    "list7.append(list8)"
   ]
  },
  {
   "cell_type": "code",
   "execution_count": 6,
   "id": "cd4fc18b",
   "metadata": {},
   "outputs": [
    {
     "name": "stdout",
     "output_type": "stream",
     "text": [
      "1\n",
      "2\n",
      "3\n",
      "4\n",
      "5\n",
      "[6, 7, 8, 9, 10, [6.1, 6.2, 6.3, 6.4, 6.5]]\n"
     ]
    }
   ],
   "source": [
    "for j in list6:\n",
    "    print(j)"
   ]
  },
  {
   "cell_type": "code",
   "execution_count": 8,
   "id": "bf40321c",
   "metadata": {},
   "outputs": [
    {
     "name": "stdout",
     "output_type": "stream",
     "text": [
      "6.3\n"
     ]
    }
   ],
   "source": [
    "print(list6[-1][-1][-3])"
   ]
  },
  {
   "cell_type": "markdown",
   "id": "a77cb68e",
   "metadata": {},
   "source": [
    "##### So, in the above example, we can see that we have made a sublist, list8, in the list7. And then we added this list7 in the list6. And then to access the element of sublist, we have appended square brackets. This way of accessing index is called nesting index. "
   ]
  },
  {
   "cell_type": "markdown",
   "id": "2d624d84",
   "metadata": {},
   "source": [
    "### Insert Methods"
   ]
  },
  {
   "cell_type": "markdown",
   "id": "746e5e72",
   "metadata": {},
   "source": [
    "Insert method is used to insert a value in a given list and this doesn't overwrite rather it insert the element at the given index and shifts rest rest elements forward"
   ]
  },
  {
   "cell_type": "code",
   "execution_count": 74,
   "id": "06a336e4",
   "metadata": {},
   "outputs": [],
   "source": [
    "list9=[2,3,5,7,13]\n",
    "list9.insert(4,11)"
   ]
  },
  {
   "cell_type": "code",
   "execution_count": 75,
   "id": "b9ba70b4",
   "metadata": {},
   "outputs": [
    {
     "name": "stdout",
     "output_type": "stream",
     "text": [
      "2\n",
      "3\n",
      "5\n",
      "7\n",
      "11\n",
      "13\n"
     ]
    }
   ],
   "source": [
    "for i in list9:\n",
    "    print(i)"
   ]
  },
  {
   "cell_type": "markdown",
   "id": "6dfcdc7f",
   "metadata": {},
   "source": [
    "### Count Method"
   ]
  },
  {
   "cell_type": "markdown",
   "id": "f42295d2",
   "metadata": {},
   "source": [
    "It is used to count a number of times an elements present in a given list.\n",
    "For Example:"
   ]
  },
  {
   "cell_type": "code",
   "execution_count": 77,
   "id": "65e5cad6",
   "metadata": {},
   "outputs": [
    {
     "data": {
      "text/plain": [
       "2"
      ]
     },
     "execution_count": 77,
     "metadata": {},
     "output_type": "execute_result"
    }
   ],
   "source": [
    "list10=[1,2,3,4,5,6,7,6,7,5,4,6,2,4,2,3,1,5,7]\n",
    "list10.count(3)"
   ]
  },
  {
   "cell_type": "code",
   "execution_count": 79,
   "id": "c30c893d",
   "metadata": {},
   "outputs": [
    {
     "data": {
      "text/plain": [
       "3"
      ]
     },
     "execution_count": 79,
     "metadata": {},
     "output_type": "execute_result"
    }
   ],
   "source": [
    "list10.count(7)"
   ]
  },
  {
   "cell_type": "code",
   "execution_count": 81,
   "id": "c470e6e3",
   "metadata": {},
   "outputs": [
    {
     "data": {
      "text/plain": [
       "3"
      ]
     },
     "execution_count": 81,
     "metadata": {},
     "output_type": "execute_result"
    }
   ],
   "source": [
    "list10.count(5)"
   ]
  },
  {
   "cell_type": "markdown",
   "id": "fefe7c91",
   "metadata": {},
   "source": [
    "### Index Method"
   ]
  },
  {
   "cell_type": "markdown",
   "id": "2ef4e568",
   "metadata": {},
   "source": [
    "It is used to know the index of an element passed in the function."
   ]
  },
  {
   "cell_type": "code",
   "execution_count": 15,
   "id": "d3423b2a",
   "metadata": {},
   "outputs": [],
   "source": [
    "list9=[2,3,5,7,13]\n",
    "x=list9.index(5)"
   ]
  },
  {
   "cell_type": "code",
   "execution_count": 3,
   "id": "cb80cda0",
   "metadata": {},
   "outputs": [
    {
     "data": {
      "text/plain": [
       "2"
      ]
     },
     "execution_count": 3,
     "metadata": {},
     "output_type": "execute_result"
    }
   ],
   "source": [
    "x"
   ]
  },
  {
   "cell_type": "code",
   "execution_count": 16,
   "id": "7a7878f0",
   "metadata": {},
   "outputs": [
    {
     "data": {
      "text/plain": [
       "5"
      ]
     },
     "execution_count": 16,
     "metadata": {},
     "output_type": "execute_result"
    }
   ],
   "source": [
    "list9.pop(2)"
   ]
  },
  {
   "cell_type": "code",
   "execution_count": 17,
   "id": "c2922c5f",
   "metadata": {},
   "outputs": [
    {
     "data": {
      "text/plain": [
       "[2, 3, 7, 13]"
      ]
     },
     "execution_count": 17,
     "metadata": {},
     "output_type": "execute_result"
    }
   ],
   "source": [
    "list9"
   ]
  },
  {
   "cell_type": "markdown",
   "id": "866e890b",
   "metadata": {},
   "source": [
    "### Remove Method"
   ]
  },
  {
   "cell_type": "markdown",
   "id": "6c2b6659",
   "metadata": {},
   "source": [
    "It remove the element passed in argument from the list."
   ]
  },
  {
   "cell_type": "code",
   "execution_count": 86,
   "id": "8f63bc44",
   "metadata": {},
   "outputs": [
    {
     "name": "stdout",
     "output_type": "stream",
     "text": [
      "1\n",
      "2\n",
      "3\n",
      "45\n",
      "6\n",
      "76\n",
      "8\n",
      "7\n",
      "3\n"
     ]
    }
   ],
   "source": [
    "l1=[1,2,3,45,6,76,8,7,3,4]\n",
    "l1.remove(4)\n",
    "for i in l1:\n",
    "    print(i)"
   ]
  },
  {
   "cell_type": "markdown",
   "id": "403eec1b",
   "metadata": {},
   "source": [
    "### Pop Function"
   ]
  },
  {
   "cell_type": "markdown",
   "id": "ae60f79b",
   "metadata": {},
   "source": [
    "This fucntion return the element kept at the index value passed in this and remove that value from the list"
   ]
  },
  {
   "cell_type": "code",
   "execution_count": 87,
   "id": "101b671e",
   "metadata": {},
   "outputs": [
    {
     "data": {
      "text/plain": [
       "6"
      ]
     },
     "execution_count": 87,
     "metadata": {},
     "output_type": "execute_result"
    }
   ],
   "source": [
    "#example \n",
    "l1.pop(4)"
   ]
  },
  {
   "cell_type": "code",
   "execution_count": 88,
   "id": "95204a98",
   "metadata": {},
   "outputs": [
    {
     "name": "stdout",
     "output_type": "stream",
     "text": [
      "1\n",
      "2\n",
      "3\n",
      "45\n",
      "76\n",
      "8\n",
      "7\n",
      "3\n"
     ]
    }
   ],
   "source": [
    "for i in l1:\n",
    "    print(i)"
   ]
  },
  {
   "cell_type": "markdown",
   "id": "b604bad6",
   "metadata": {},
   "source": [
    "### Clear Method"
   ]
  },
  {
   "cell_type": "markdown",
   "id": "3cf0ed0a",
   "metadata": {},
   "source": [
    "This method delets all elements of a list"
   ]
  },
  {
   "cell_type": "code",
   "execution_count": 89,
   "id": "1f32e689",
   "metadata": {},
   "outputs": [
    {
     "data": {
      "text/plain": [
       "[1, 2, 3, 4, 5]"
      ]
     },
     "execution_count": 89,
     "metadata": {},
     "output_type": "execute_result"
    }
   ],
   "source": [
    "l2=[1,2,3,4,5]\n",
    "l2"
   ]
  },
  {
   "cell_type": "code",
   "execution_count": 90,
   "id": "0ff3eaa4",
   "metadata": {},
   "outputs": [],
   "source": [
    "l2.clear()"
   ]
  },
  {
   "cell_type": "code",
   "execution_count": 91,
   "id": "166e388c",
   "metadata": {},
   "outputs": [
    {
     "data": {
      "text/plain": [
       "[]"
      ]
     },
     "execution_count": 91,
     "metadata": {},
     "output_type": "execute_result"
    }
   ],
   "source": [
    "l2"
   ]
  },
  {
   "cell_type": "markdown",
   "id": "825f4310",
   "metadata": {},
   "source": [
    "### Sort Method"
   ]
  },
  {
   "cell_type": "code",
   "execution_count": 92,
   "id": "25fef006",
   "metadata": {},
   "outputs": [],
   "source": [
    "list10.sort()"
   ]
  },
  {
   "cell_type": "code",
   "execution_count": 93,
   "id": "83463d2d",
   "metadata": {},
   "outputs": [
    {
     "data": {
      "text/plain": [
       "[1, 1, 2, 2, 2, 3, 3, 4, 4, 4, 5, 5, 5, 6, 6, 6, 7, 7, 7]"
      ]
     },
     "execution_count": 93,
     "metadata": {},
     "output_type": "execute_result"
    }
   ],
   "source": [
    "list10"
   ]
  },
  {
   "cell_type": "markdown",
   "id": "e8e29220",
   "metadata": {},
   "source": [
    "### Reverse Method"
   ]
  },
  {
   "cell_type": "code",
   "execution_count": 94,
   "id": "01543dd4",
   "metadata": {},
   "outputs": [],
   "source": [
    "list10.reverse()"
   ]
  },
  {
   "cell_type": "code",
   "execution_count": 97,
   "id": "1348347e",
   "metadata": {},
   "outputs": [
    {
     "name": "stdout",
     "output_type": "stream",
     "text": [
      "n\n",
      "i\n",
      "a\n",
      "J\n",
      " \n",
      "SSJ\n",
      "Am\n",
      "I\n",
      "j\n",
      "Ravi\n",
      "A\n"
     ]
    }
   ],
   "source": [
    "list2.reverse()\n",
    "for i in list2:\n",
    "    print(i)"
   ]
  },
  {
   "cell_type": "code",
   "execution_count": 36,
   "id": "4aac0283",
   "metadata": {},
   "outputs": [
    {
     "name": "stdout",
     "output_type": "stream",
     "text": [
      "[2, 3, 4, 1]\n"
     ]
    }
   ],
   "source": [
    "a=[1,2,3,4]\n",
    "p=a.pop(0)\n",
    "a.append(p)\n",
    "print(a)"
   ]
  },
  {
   "cell_type": "code",
   "execution_count": 4,
   "id": "016f2076",
   "metadata": {},
   "outputs": [],
   "source": [
    "ssj=[6,3,5,1,5,2,7]\n",
    "for i in range(0,len(ssj)):\n",
    "    key=ssj[i]\n",
    "    for j in range(i+1, len(ssj)):\n",
    "        if(key < ssj[j]):\n",
    "            pass\n",
    "        else:\n",
    "            c=ssj[j]\n",
    "            ssj[i]=ssj[j]\n",
    "            ssj[j]=c\n",
    "            key=ssj[j]\n",
    "        "
   ]
  },
  {
   "cell_type": "code",
   "execution_count": 3,
   "id": "e0ffc6f9",
   "metadata": {},
   "outputs": [
    {
     "data": {
      "text/plain": [
       "[1, 1, 1, 1, 2, 2, 7]"
      ]
     },
     "execution_count": 3,
     "metadata": {},
     "output_type": "execute_result"
    }
   ],
   "source": [
    "a"
   ]
  },
  {
   "cell_type": "code",
   "execution_count": 1,
   "id": "413b45fe",
   "metadata": {},
   "outputs": [
    {
     "data": {
      "text/plain": [
       "True"
      ]
     },
     "execution_count": 1,
     "metadata": {},
     "output_type": "execute_result"
    }
   ],
   "source": [
    "s=\"SimmiSheetalJain\"\n",
    "\"Sim\" in s"
   ]
  },
  {
   "cell_type": "code",
   "execution_count": 2,
   "id": "6a164ece",
   "metadata": {},
   "outputs": [
    {
     "data": {
      "text/plain": [
       "12"
      ]
     },
     "execution_count": 2,
     "metadata": {},
     "output_type": "execute_result"
    }
   ],
   "source": [
    "s.index(\"Jain\")"
   ]
  },
  {
   "cell_type": "code",
   "execution_count": 4,
   "id": "02b941f8",
   "metadata": {},
   "outputs": [],
   "source": [
    "s = s+\"Anjali\""
   ]
  },
  {
   "cell_type": "code",
   "execution_count": 5,
   "id": "8ddb9039",
   "metadata": {},
   "outputs": [
    {
     "data": {
      "text/plain": [
       "'SimmiSheetalJainAnjali'"
      ]
     },
     "execution_count": 5,
     "metadata": {},
     "output_type": "execute_result"
    }
   ],
   "source": [
    "s"
   ]
  },
  {
   "cell_type": "code",
   "execution_count": 6,
   "id": "1be78928",
   "metadata": {},
   "outputs": [],
   "source": [
    "x = y = 10"
   ]
  },
  {
   "cell_type": "code",
   "execution_count": 7,
   "id": "e18c430c",
   "metadata": {},
   "outputs": [
    {
     "data": {
      "text/plain": [
       "10"
      ]
     },
     "execution_count": 7,
     "metadata": {},
     "output_type": "execute_result"
    }
   ],
   "source": [
    "x"
   ]
  },
  {
   "cell_type": "code",
   "execution_count": 8,
   "id": "13395ba0",
   "metadata": {},
   "outputs": [
    {
     "data": {
      "text/plain": [
       "10"
      ]
     },
     "execution_count": 8,
     "metadata": {},
     "output_type": "execute_result"
    }
   ],
   "source": [
    "y"
   ]
  },
  {
   "cell_type": "code",
   "execution_count": 9,
   "id": "8a607564",
   "metadata": {},
   "outputs": [],
   "source": [
    "s1=list(s)"
   ]
  },
  {
   "cell_type": "code",
   "execution_count": 10,
   "id": "0fa4cae0",
   "metadata": {},
   "outputs": [
    {
     "data": {
      "text/plain": [
       "['S',\n",
       " 'i',\n",
       " 'm',\n",
       " 'm',\n",
       " 'i',\n",
       " 'S',\n",
       " 'h',\n",
       " 'e',\n",
       " 'e',\n",
       " 't',\n",
       " 'a',\n",
       " 'l',\n",
       " 'J',\n",
       " 'a',\n",
       " 'i',\n",
       " 'n',\n",
       " 'A',\n",
       " 'n',\n",
       " 'j',\n",
       " 'a',\n",
       " 'l',\n",
       " 'i']"
      ]
     },
     "execution_count": 10,
     "metadata": {},
     "output_type": "execute_result"
    }
   ],
   "source": [
    "s1"
   ]
  },
  {
   "cell_type": "code",
   "execution_count": 26,
   "id": "20e39e43",
   "metadata": {},
   "outputs": [
    {
     "name": "stdout",
     "output_type": "stream",
     "text": [
      "['lmth', 'atadgib', 'lmth', 'nohtyp', 'gninrael enihcam', 'ecneics atad']\n"
     ]
    }
   ],
   "source": [
    "course=[\"data science\",\"machine learning\",\"python\",\"html\",\"bigdata\",\"html\"]\n",
    "course1=[]\n",
    "for i in course:\n",
    "    course1.append(i[::-1])\n",
    "course1.reverse()\n",
    "print(course1)"
   ]
  },
  {
   "cell_type": "code",
   "execution_count": 28,
   "id": "fde709d8",
   "metadata": {},
   "outputs": [],
   "source": [
    "course=[\"data science\",\"machine learning\",\"python\",\"html\",\"bigdata\",\"html\"]\n",
    "for i in range(0,len(course)):\n",
    "    j=(list(course[i]))\n",
    "    j.reverse()\n",
    "    j=str(j)\n",
    "    course[i]=j   \n",
    "    "
   ]
  },
  {
   "cell_type": "code",
   "execution_count": 30,
   "id": "bade33af",
   "metadata": {},
   "outputs": [
    {
     "name": "stdout",
     "output_type": "stream",
     "text": [
      "[\"['e', 'c', 'n', 'e', 'i', 'c', 's', ' ', 'a', 't', 'a', 'd']\", \"['g', 'n', 'i', 'n', 'r', 'a', 'e', 'l', ' ', 'e', 'n', 'i', 'h', 'c', 'a', 'm']\", \"['n', 'o', 'h', 't', 'y', 'p']\", \"['l', 'm', 't', 'h']\", \"['a', 't', 'a', 'd', 'g', 'i', 'b']\", \"['l', 'm', 't', 'h']\"]\n"
     ]
    }
   ],
   "source": [
    "course.reverse()\n",
    "print(course)"
   ]
  },
  {
   "cell_type": "code",
   "execution_count": 12,
   "id": "209da050",
   "metadata": {},
   "outputs": [
    {
     "data": {
      "text/plain": [
       "120"
      ]
     },
     "execution_count": 12,
     "metadata": {},
     "output_type": "execute_result"
    }
   ],
   "source": [
    "factorial(5)"
   ]
  },
  {
   "cell_type": "code",
   "execution_count": 14,
   "id": "9eab030e",
   "metadata": {},
   "outputs": [
    {
     "name": "stdout",
     "output_type": "stream",
     "text": [
      "3.0\n"
     ]
    }
   ],
   "source": [
    "s=\"aba\"\n",
    "k=2\n",
    "def nCk( k ):\n",
    "    return (factorial(len(s))/(factorial(len(s)-k)*factorial(k)))\n",
    "\n",
    "print(nCk(k))"
   ]
  },
  {
   "cell_type": "code",
   "execution_count": 16,
   "id": "26758b37",
   "metadata": {},
   "outputs": [
    {
     "data": {
      "text/plain": [
       "1"
      ]
     },
     "execution_count": 16,
     "metadata": {},
     "output_type": "execute_result"
    }
   ],
   "source": [
    "a=[2,3,4,6,7,3,5]\n",
    "a.index(3)"
   ]
  },
  {
   "cell_type": "markdown",
   "id": "e6813deb",
   "metadata": {},
   "source": [
    "## Returning a list from a function"
   ]
  },
  {
   "cell_type": "code",
   "execution_count": null,
   "id": "2bac60f3",
   "metadata": {},
   "outputs": [],
   "source": [
    "Cont. Page number 200"
   ]
  }
 ],
 "metadata": {
  "kernelspec": {
   "display_name": "Python 3 (ipykernel)",
   "language": "python",
   "name": "python3"
  },
  "language_info": {
   "codemirror_mode": {
    "name": "ipython",
    "version": 3
   },
   "file_extension": ".py",
   "mimetype": "text/x-python",
   "name": "python",
   "nbconvert_exporter": "python",
   "pygments_lexer": "ipython3",
   "version": "3.11.4"
  }
 },
 "nbformat": 4,
 "nbformat_minor": 5
}
