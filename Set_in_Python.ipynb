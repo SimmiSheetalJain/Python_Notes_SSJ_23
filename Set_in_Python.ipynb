{
 "cells": [
  {
   "cell_type": "markdown",
   "id": "f83b004c",
   "metadata": {},
   "source": [
    "# SET"
   ]
  },
  {
   "cell_type": "markdown",
   "id": "0ee60571",
   "metadata": {},
   "source": [
    "### Set is defined using '{ }'  brackets."
   ]
  },
  {
   "cell_type": "code",
   "execution_count": 1,
   "id": "298cb072",
   "metadata": {},
   "outputs": [],
   "source": [
    "a={1,2,3,4,5,1,2,3,5,6,7,7,2,2,2}"
   ]
  },
  {
   "cell_type": "markdown",
   "id": "8196f1c1",
   "metadata": {},
   "source": [
    "### Set in python is as same as set in mathematics.This means repetition is not allowed."
   ]
  },
  {
   "cell_type": "code",
   "execution_count": 7,
   "id": "05dd3d5e",
   "metadata": {},
   "outputs": [
    {
     "name": "stdout",
     "output_type": "stream",
     "text": [
      "{1, 2, 3, 4, 5, 6, 7}\n"
     ]
    }
   ],
   "source": [
    "print(a)"
   ]
  },
  {
   "cell_type": "markdown",
   "id": "7422bb85",
   "metadata": {},
   "source": [
    "As it can be seen in the above example, a has unique elements"
   ]
  },
  {
   "cell_type": "markdown",
   "id": "860061af",
   "metadata": {},
   "source": [
    "### Elements can't be accessed using index. In other words, subscripting can not be used"
   ]
  },
  {
   "cell_type": "code",
   "execution_count": 9,
   "id": "830ce283",
   "metadata": {},
   "outputs": [
    {
     "ename": "TypeError",
     "evalue": "'set' object is not subscriptable",
     "output_type": "error",
     "traceback": [
      "\u001b[1;31m---------------------------------------------------------------------------\u001b[0m",
      "\u001b[1;31mTypeError\u001b[0m                                 Traceback (most recent call last)",
      "Cell \u001b[1;32mIn[9], line 3\u001b[0m\n\u001b[0;32m      1\u001b[0m \u001b[38;5;66;03m#Example 1\u001b[39;00m\n\u001b[1;32m----> 3\u001b[0m \u001b[38;5;28mprint\u001b[39m(a[\u001b[38;5;241m0\u001b[39m])\n",
      "\u001b[1;31mTypeError\u001b[0m: 'set' object is not subscriptable"
     ]
    }
   ],
   "source": [
    "#Example 1\n",
    "\n",
    "print(a[0])"
   ]
  },
  {
   "cell_type": "markdown",
   "id": "3fbce779",
   "metadata": {},
   "source": [
    "###### As it is shown above 'TypeError: 'set' object is not subscriptable', Hence, slicing can also not be applied. Here is an example :"
   ]
  },
  {
   "cell_type": "code",
   "execution_count": 10,
   "id": "966aba2f",
   "metadata": {},
   "outputs": [
    {
     "ename": "TypeError",
     "evalue": "'set' object is not subscriptable",
     "output_type": "error",
     "traceback": [
      "\u001b[1;31m---------------------------------------------------------------------------\u001b[0m",
      "\u001b[1;31mTypeError\u001b[0m                                 Traceback (most recent call last)",
      "Cell \u001b[1;32mIn[10], line 1\u001b[0m\n\u001b[1;32m----> 1\u001b[0m a[\u001b[38;5;241m1\u001b[39m:\u001b[38;5;241m4\u001b[39m]\n",
      "\u001b[1;31mTypeError\u001b[0m: 'set' object is not subscriptable"
     ]
    }
   ],
   "source": [
    "#Example 2 \n",
    "a[1:4]"
   ]
  },
  {
   "cell_type": "markdown",
   "id": "bfd2c22b",
   "metadata": {},
   "source": [
    "### We can store hetrogenous values"
   ]
  },
  {
   "cell_type": "code",
   "execution_count": 11,
   "id": "65d3aab3",
   "metadata": {},
   "outputs": [],
   "source": [
    "b={11234,9.5, 'Sheetal jain', True}"
   ]
  },
  {
   "cell_type": "code",
   "execution_count": 12,
   "id": "94488301",
   "metadata": {},
   "outputs": [
    {
     "name": "stdout",
     "output_type": "stream",
     "text": [
      "{9.5, 11234, 'Sheetal jain', True}\n"
     ]
    }
   ],
   "source": [
    "print(b)"
   ]
  },
  {
   "cell_type": "markdown",
   "id": "0d4aa870",
   "metadata": {},
   "source": [
    "### We can pass an iterable object in set() to change it into a set."
   ]
  },
  {
   "cell_type": "code",
   "execution_count": 13,
   "id": "041b00d9",
   "metadata": {},
   "outputs": [
    {
     "data": {
      "text/plain": [
       "{1, 2, 4, 5}"
      ]
     },
     "execution_count": 13,
     "metadata": {},
     "output_type": "execute_result"
    }
   ],
   "source": [
    "set([1,2,4,5])"
   ]
  },
  {
   "cell_type": "code",
   "execution_count": 17,
   "id": "fe645c9c",
   "metadata": {},
   "outputs": [
    {
     "name": "stdout",
     "output_type": "stream",
     "text": [
      "[11, 2, 3, 43, 5, 532, 453, 4, 3, 234, 23, 2, 5, 4, 2]\n"
     ]
    }
   ],
   "source": [
    "a=[11,2,3,43,5,532,453,4,3,234,23,2,5,4,2,]\n",
    "print(a)"
   ]
  },
  {
   "cell_type": "code",
   "execution_count": 18,
   "id": "7d0055c6",
   "metadata": {},
   "outputs": [
    {
     "data": {
      "text/plain": [
       "{2, 3, 4, 5, 11, 23, 43, 234, 453, 532}"
      ]
     },
     "execution_count": 18,
     "metadata": {},
     "output_type": "execute_result"
    }
   ],
   "source": [
    "set(a)"
   ]
  },
  {
   "cell_type": "markdown",
   "id": "1d509c77",
   "metadata": {},
   "source": [
    "### We can use add() to add anything in an existing set"
   ]
  },
  {
   "cell_type": "code",
   "execution_count": 23,
   "id": "74483203",
   "metadata": {},
   "outputs": [
    {
     "name": "stdout",
     "output_type": "stream",
     "text": [
      "{32, 34, 3, 1000, 554, 43, 12, 55, 54, 23, 24}\n"
     ]
    }
   ],
   "source": [
    "c={12,24,3,554,3,32,54,55,554,12,34,23,32,43,}\n",
    "c.add(1000)\n",
    "print(c)"
   ]
  },
  {
   "cell_type": "markdown",
   "id": "ca6dac6e",
   "metadata": {},
   "source": [
    "### Set is an unordered collection"
   ]
  },
  {
   "cell_type": "code",
   "execution_count": 25,
   "id": "f249fb0b",
   "metadata": {},
   "outputs": [
    {
     "name": "stdout",
     "output_type": "stream",
     "text": [
      "{1, 2, 3, 4, 5, 6, 10.5, 'Simmi', 'Sheetal'}\n"
     ]
    }
   ],
   "source": [
    "#Example 1\n",
    "a = {1,2,3,'Sheetal',4,6,5,'Simmi',10.5}\n",
    "print(a)"
   ]
  },
  {
   "cell_type": "code",
   "execution_count": 26,
   "id": "46986085",
   "metadata": {},
   "outputs": [
    {
     "data": {
      "text/plain": [
       "{1, 10.5, 2, 3, 4, 5, 6, 'Sheetal', 'Simmi'}"
      ]
     },
     "execution_count": 26,
     "metadata": {},
     "output_type": "execute_result"
    }
   ],
   "source": [
    "#Example 2: \n",
    "a"
   ]
  },
  {
   "cell_type": "code",
   "execution_count": 30,
   "id": "40c86e2a",
   "metadata": {},
   "outputs": [],
   "source": [
    "a.add(20)"
   ]
  },
  {
   "cell_type": "code",
   "execution_count": 31,
   "id": "430b525d",
   "metadata": {},
   "outputs": [
    {
     "data": {
      "text/plain": [
       "{1, 10.5, 2, 20, 3, 4, 5, 6, 'Sheetal', 'Simmi'}"
      ]
     },
     "execution_count": 31,
     "metadata": {},
     "output_type": "execute_result"
    }
   ],
   "source": [
    "#Example 3:\n",
    "a"
   ]
  },
  {
   "cell_type": "markdown",
   "id": "7b4b343e",
   "metadata": {},
   "source": [
    "### We can also use clear(),copy(),update(),remove(),pop() on a set."
   ]
  },
  {
   "cell_type": "code",
   "execution_count": 33,
   "id": "eb18384c",
   "metadata": {},
   "outputs": [
    {
     "name": "stdout",
     "output_type": "stream",
     "text": [
      "set()\n"
     ]
    }
   ],
   "source": [
    "#Example 1\n",
    "a.clear()\n",
    "print(a)"
   ]
  },
  {
   "cell_type": "code",
   "execution_count": 38,
   "id": "e908e838",
   "metadata": {},
   "outputs": [
    {
     "name": "stdout",
     "output_type": "stream",
     "text": [
      "{True, 11234, 1000, 9.5, 'Sheetal jain'}\n"
     ]
    }
   ],
   "source": [
    "#Example 2\n",
    "c = b.copy()\n",
    "print(c)"
   ]
  },
  {
   "cell_type": "code",
   "execution_count": 39,
   "id": "4eea1214",
   "metadata": {},
   "outputs": [
    {
     "name": "stdout",
     "output_type": "stream",
     "text": [
      "{True, 1000, 9.5, 'Sheetal jain'}\n"
     ]
    }
   ],
   "source": [
    "#Example 3\n",
    "c.remove(11234)\n",
    "print(c)"
   ]
  },
  {
   "cell_type": "code",
   "execution_count": 41,
   "id": "9b4a7ada",
   "metadata": {},
   "outputs": [
    {
     "data": {
      "text/plain": [
       "True"
      ]
     },
     "execution_count": 41,
     "metadata": {},
     "output_type": "execute_result"
    }
   ],
   "source": [
    "#Example 4\n",
    "c.pop()"
   ]
  },
  {
   "cell_type": "code",
   "execution_count": 42,
   "id": "61ef5e3f",
   "metadata": {},
   "outputs": [
    {
     "data": {
      "text/plain": [
       "1000"
      ]
     },
     "execution_count": 42,
     "metadata": {},
     "output_type": "execute_result"
    }
   ],
   "source": [
    "c.pop()"
   ]
  },
  {
   "cell_type": "code",
   "execution_count": 43,
   "id": "2c4cbc98",
   "metadata": {},
   "outputs": [
    {
     "data": {
      "text/plain": [
       "9.5"
      ]
     },
     "execution_count": 43,
     "metadata": {},
     "output_type": "execute_result"
    }
   ],
   "source": [
    "c.pop()"
   ]
  },
  {
   "cell_type": "markdown",
   "id": "0624bfc2",
   "metadata": {},
   "source": [
    "###### As it can be seen, pop() function is working on set as it works on a stack i.e. top most(here very first) element is removed."
   ]
  },
  {
   "cell_type": "code",
   "execution_count": 2,
   "id": "745ca31d",
   "metadata": {},
   "outputs": [
    {
     "name": "stdout",
     "output_type": "stream",
     "text": [
      "{1, 2, 3}\n",
      "{1, 2, 3, 4, 5, 6}\n"
     ]
    }
   ],
   "source": [
    "#Example 5:\n",
    "d={1,2,3}\n",
    "e={4,5,6}\n",
    "print(d)\n",
    "d.update(e)\n",
    "print(d)"
   ]
  },
  {
   "cell_type": "markdown",
   "id": "062f0087",
   "metadata": {},
   "source": [
    "The update() method updates the current set, by adding items from another set (or any other iterable)."
   ]
  },
  {
   "cell_type": "code",
   "execution_count": 3,
   "id": "f757d539",
   "metadata": {},
   "outputs": [
    {
     "data": {
      "text/plain": [
       "6"
      ]
     },
     "execution_count": 3,
     "metadata": {},
     "output_type": "execute_result"
    }
   ],
   "source": [
    "len(d)"
   ]
  },
  {
   "cell_type": "code",
   "execution_count": 5,
   "id": "52e955eb",
   "metadata": {},
   "outputs": [
    {
     "data": {
      "text/plain": [
       "{1, 2, 3, 4, 5, 6}"
      ]
     },
     "execution_count": 5,
     "metadata": {},
     "output_type": "execute_result"
    }
   ],
   "source": [
    "set([1,2,3,4,5,6,6,6,4])"
   ]
  },
  {
   "cell_type": "code",
   "execution_count": 5,
   "id": "73c6da3d",
   "metadata": {},
   "outputs": [],
   "source": [
    "dummy=[5,6,7,2,3,1,4]\n",
    "n=len(dummy)\n",
    "for i in range(0,n):\n",
    "    for j in range(i+1,n):\n",
    "        if dummy[i] > dummy[j]:\n",
    "            dummy[i]=dummy[i]+dummy[j]\n",
    "            dummy[j]=dummy[i]-dummy[j]\n",
    "            dummy[i]=dummy[i]-dummy[j]"
   ]
  },
  {
   "cell_type": "code",
   "execution_count": 7,
   "id": "fc90d1c6",
   "metadata": {},
   "outputs": [
    {
     "data": {
      "text/plain": [
       "[1, 2, 3, 4, 5, 6, 7]"
      ]
     },
     "execution_count": 7,
     "metadata": {},
     "output_type": "execute_result"
    }
   ],
   "source": [
    "dummy"
   ]
  },
  {
   "cell_type": "code",
   "execution_count": 2,
   "id": "75e4c32c",
   "metadata": {},
   "outputs": [
    {
     "ename": "TypeError",
     "evalue": "unhashable type: 'list'",
     "output_type": "error",
     "traceback": [
      "\u001b[1;31m---------------------------------------------------------------------------\u001b[0m",
      "\u001b[1;31mTypeError\u001b[0m                                 Traceback (most recent call last)",
      "Cell \u001b[1;32mIn[2], line 1\u001b[0m\n\u001b[1;32m----> 1\u001b[0m \u001b[38;5;28mset\u001b[39m\u001b[38;5;241m=\u001b[39m{[\u001b[38;5;241m1\u001b[39m,\u001b[38;5;241m2\u001b[39m,\u001b[38;5;241m3\u001b[39m],[\u001b[38;5;241m4\u001b[39m,\u001b[38;5;241m5\u001b[39m,\u001b[38;5;241m6\u001b[39m],[\u001b[38;5;241m7\u001b[39m,\u001b[38;5;241m8\u001b[39m,\u001b[38;5;241m9\u001b[39m]}\n",
      "\u001b[1;31mTypeError\u001b[0m: unhashable type: 'list'"
     ]
    }
   ],
   "source": [
    "set={[1,2,3],[4,5,6],[7,8,9]}"
   ]
  },
  {
   "cell_type": "code",
   "execution_count": 3,
   "id": "8673a67f",
   "metadata": {},
   "outputs": [
    {
     "data": {
      "text/plain": [
       "set"
      ]
     },
     "execution_count": 3,
     "metadata": {},
     "output_type": "execute_result"
    }
   ],
   "source": []
  },
  {
   "cell_type": "code",
   "execution_count": null,
   "id": "de4eac14",
   "metadata": {},
   "outputs": [],
   "source": []
  }
 ],
 "metadata": {
  "kernelspec": {
   "display_name": "Python 3 (ipykernel)",
   "language": "python",
   "name": "python3"
  },
  "language_info": {
   "codemirror_mode": {
    "name": "ipython",
    "version": 3
   },
   "file_extension": ".py",
   "mimetype": "text/x-python",
   "name": "python",
   "nbconvert_exporter": "python",
   "pygments_lexer": "ipython3",
   "version": "3.11.4"
  }
 },
 "nbformat": 4,
 "nbformat_minor": 5
}
