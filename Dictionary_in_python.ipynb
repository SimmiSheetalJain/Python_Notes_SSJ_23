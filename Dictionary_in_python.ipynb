{
 "cells": [
  {
   "cell_type": "markdown",
   "id": "c79108c5",
   "metadata": {},
   "source": [
    "# Dictionary"
   ]
  },
  {
   "cell_type": "markdown",
   "id": "66137c45",
   "metadata": {},
   "source": [
    "Dictionary in python is defined using '{ key1 : value1, key2: value2,.....Key n, value n}'"
   ]
  },
  {
   "cell_type": "code",
   "execution_count": 1,
   "id": "bc9365e4",
   "metadata": {},
   "outputs": [
    {
     "name": "stdout",
     "output_type": "stream",
     "text": [
      "{'Seema': 9878458395, 'Amit': 9834759848, 'Ankesh': 390475394}\n"
     ]
    }
   ],
   "source": [
    "#Example 1\n",
    "phone_directory={\n",
    "    'Seema':9878458395,\n",
    "    'Amit':9834759848,\n",
    "    'Ankesh':390475394\n",
    "    }\n",
    "print(phone_directory)"
   ]
  },
  {
   "cell_type": "code",
   "execution_count": 2,
   "id": "f80e9892",
   "metadata": {},
   "outputs": [
    {
     "name": "stdout",
     "output_type": "stream",
     "text": [
      "{'Ankit': ['c', 'C++', 'R'], 'Namita': ['Parmecutical Manufacturing', 'Braid Building'], 'Ashneer': ['Business', 'Financial analytics', 'Stock Marketing'], 'Sheetal': ['Business', 'communication', 'Blogging', 'Teaching', 'Writing', 'Data analytics']}\n"
     ]
    }
   ],
   "source": [
    "#Example 2;\n",
    "Student_knows ={\n",
    "    'Ankit':[\"c\",\"C++\",\"R\"],\n",
    "    'Namita':[\"Parmecutical Manufacturing\",\"Braid Building\"],\n",
    "    'Ashneer':['Business','Financial analytics','Stock Marketing'],\n",
    "    'Sheetal':['Business','communication','Blogging','Teaching','Writing','Data analytics']    \n",
    "}\n",
    "print(Student_knows)"
   ]
  },
  {
   "cell_type": "markdown",
   "id": "0966d461",
   "metadata": {},
   "source": [
    "## Acceesing Values of Dictionary"
   ]
  },
  {
   "cell_type": "markdown",
   "id": "82f3ac72",
   "metadata": {},
   "source": [
    "#### => We can access values of a dict by passing key value in subscript operator"
   ]
  },
  {
   "cell_type": "code",
   "execution_count": 3,
   "id": "1461bb93",
   "metadata": {},
   "outputs": [
    {
     "name": "stdout",
     "output_type": "stream",
     "text": [
      "['c', 'C++', 'R']\n"
     ]
    }
   ],
   "source": [
    "#Example 1\n",
    "print(Student_knows[\"Ankit\"])"
   ]
  },
  {
   "cell_type": "code",
   "execution_count": 4,
   "id": "e7fc54a7",
   "metadata": {},
   "outputs": [
    {
     "name": "stdout",
     "output_type": "stream",
     "text": [
      "['Parmecutical Manufacturing', 'Braid Building']\n"
     ]
    }
   ],
   "source": [
    "#Example 2\n",
    "print(Student_knows[\"Namita\"])"
   ]
  },
  {
   "cell_type": "markdown",
   "id": "9fcad7c6",
   "metadata": {},
   "source": [
    "#### => We can access values using get() method"
   ]
  },
  {
   "cell_type": "code",
   "execution_count": 5,
   "id": "5a6750e2",
   "metadata": {},
   "outputs": [
    {
     "data": {
      "text/plain": [
       "9834759848"
      ]
     },
     "execution_count": 5,
     "metadata": {},
     "output_type": "execute_result"
    }
   ],
   "source": [
    "#Example 1\n",
    "phone_directory.get(\"Amit\")"
   ]
  },
  {
   "cell_type": "code",
   "execution_count": 6,
   "id": "629a2e0c",
   "metadata": {},
   "outputs": [
    {
     "data": {
      "text/plain": [
       "9878458395"
      ]
     },
     "execution_count": 6,
     "metadata": {},
     "output_type": "execute_result"
    }
   ],
   "source": [
    "#Example 2\n",
    "phone_directory.get(\"Seema\")"
   ]
  },
  {
   "cell_type": "markdown",
   "id": "0ae903ce",
   "metadata": {},
   "source": [
    "#### => We can use keys(), values(), items() methods with for loop iterated on a dictionary."
   ]
  },
  {
   "cell_type": "code",
   "execution_count": 7,
   "id": "83c35df1",
   "metadata": {},
   "outputs": [
    {
     "name": "stdout",
     "output_type": "stream",
     "text": [
      "My name is Seema and phone number is 9878458395\n",
      "My name is Amit and phone number is 9834759848\n",
      "My name is Ankesh and phone number is 390475394\n"
     ]
    }
   ],
   "source": [
    "#Example 1: items() will retrieve both key as well as values\n",
    "for x,y in phone_directory.items():\n",
    "    print(f\"My name is {x} and phone number is {y}\")"
   ]
  },
  {
   "cell_type": "code",
   "execution_count": 8,
   "id": "0a1dab8a",
   "metadata": {},
   "outputs": [
    {
     "name": "stdout",
     "output_type": "stream",
     "text": [
      "Seema\n",
      "Amit\n",
      "Ankesh\n"
     ]
    }
   ],
   "source": [
    "#Example 2: keys() will retrieve key only\n",
    "for x in phone_directory.keys():\n",
    "    print(x)"
   ]
  },
  {
   "cell_type": "code",
   "execution_count": 9,
   "id": "f7f919a7",
   "metadata": {},
   "outputs": [
    {
     "name": "stdout",
     "output_type": "stream",
     "text": [
      "9878458395\n",
      "9834759848\n",
      "390475394\n"
     ]
    }
   ],
   "source": [
    "#Example 3: values() will retrieve values only\n",
    "for x in phone_directory.values():\n",
    "    print(x)"
   ]
  },
  {
   "cell_type": "code",
   "execution_count": 10,
   "id": "a73abb96",
   "metadata": {},
   "outputs": [
    {
     "name": "stdout",
     "output_type": "stream",
     "text": [
      "Seema\n",
      "Amit\n",
      "Ankesh\n"
     ]
    }
   ],
   "source": [
    "#Example 4: if we don't call any mehtod using dot (.) operator, by default keys will be printed.\n",
    "for x in phone_directory:\n",
    "    print(x)"
   ]
  },
  {
   "cell_type": "markdown",
   "id": "dec34a19",
   "metadata": {},
   "source": [
    "## Updating a dict"
   ]
  },
  {
   "cell_type": "code",
   "execution_count": 11,
   "id": "a78fada3",
   "metadata": {},
   "outputs": [
    {
     "name": "stdout",
     "output_type": "stream",
     "text": [
      "My name is Seema and phone number is 56298734589\n",
      "My name is Amit and phone number is 9834759848\n",
      "My name is Ankesh and phone number is 390475394\n",
      "My name is Sheetal and phone number is 76473734637\n"
     ]
    }
   ],
   "source": [
    "#Way 1:  Using key and scripting operator\n",
    "phone_directory[\"Seema\"]= 56298734589\n",
    "phone_directory[\"Sheetal\"]=76473734637\n",
    "\n",
    "for x,y in phone_directory.items():\n",
    "    print(f\"My name is {x} and phone number is {y}\")"
   ]
  },
  {
   "cell_type": "code",
   "execution_count": 12,
   "id": "e7a75fad",
   "metadata": {},
   "outputs": [
    {
     "name": "stdout",
     "output_type": "stream",
     "text": [
      "My name is Seema and phone number is 56298734589\n",
      "My name is Amit and phone number is 9834759848\n",
      "My name is Ankesh and phone number is 390475394\n",
      "My name is Sheetal and phone number is 76473734637\n",
      "My name is Mahaveer and phone number is 8957459739\n"
     ]
    }
   ],
   "source": [
    "#Way 2: Using update() method\n",
    "phone_directory.update({\"Mahaveer\":8957459739})\n",
    "for x,y in phone_directory.items():\n",
    "    print(f\"My name is {x} and phone number is {y}\")"
   ]
  },
  {
   "cell_type": "markdown",
   "id": "0de1fe43",
   "metadata": {},
   "source": [
    "###### If key doesn't exist, new key-value pair will be created, If exists, then the value for the key will be overwritten"
   ]
  },
  {
   "cell_type": "markdown",
   "id": "5d9c1863",
   "metadata": {},
   "source": [
    "## Functions for Dictionary"
   ]
  },
  {
   "cell_type": "code",
   "execution_count": 13,
   "id": "6e514b73",
   "metadata": {},
   "outputs": [
    {
     "ename": "SyntaxError",
     "evalue": "invalid syntax (2110523980.py, line 1)",
     "output_type": "error",
     "traceback": [
      "\u001b[1;36m  Cell \u001b[1;32mIn[13], line 1\u001b[1;36m\u001b[0m\n\u001b[1;33m    1. len() : To get the length of dictionary\u001b[0m\n\u001b[1;37m       ^\u001b[0m\n\u001b[1;31mSyntaxError\u001b[0m\u001b[1;31m:\u001b[0m invalid syntax\n"
     ]
    }
   ],
   "source": [
    "1. len() : To get the length of dictionary\n",
    "2. max() : To get max values from keys. If you want to get max of values, use values() method.\n",
    "3. min() : To get min values from keys. If you want to get min of values, use values() method.\n",
    "4. all() : Returns true if all key are true else false\n",
    "5. any() : Returns true if any one key is true else false\n",
    "6. sorted(): sorts dictions according to keys by default but to sort using values, use values method.\n",
    "7. dict()"
   ]
  },
  {
   "cell_type": "code",
   "execution_count": null,
   "id": "f5f88a9e",
   "metadata": {},
   "outputs": [],
   "source": [
    "Students ={\n",
    "    1:'Ankita',\n",
    "    2:'Radhika',\n",
    "    3:'Ansh',\n",
    "    4:'Aaru',\n",
    "    5:'Suman',\n",
    "    6:'Jay'\n",
    "}\n",
    "\n",
    "#Example 1\n",
    "print(len(Students))\n",
    "#Example 2\n",
    "print(max(Students))\n",
    "#Example 3\n",
    "print(min(Students))\n",
    "#Example 4\n",
    "print(all(Students))\n",
    "#Example 5\n",
    "print(any(Students))\n",
    "#Example 6\n",
    "print(max(Students.values()))\n",
    "print(min(Students.values()))\n",
    "#Example 7\n",
    "print(sorted(Students.values()))"
   ]
  },
  {
   "cell_type": "code",
   "execution_count": null,
   "id": "4696baa2",
   "metadata": {},
   "outputs": [],
   "source": [
    "1 in Students"
   ]
  },
  {
   "cell_type": "markdown",
   "id": "a02d1328",
   "metadata": {},
   "source": [
    "## Methods of Dictionary"
   ]
  },
  {
   "cell_type": "markdown",
   "id": "ec885ba9",
   "metadata": {},
   "source": [
    "1. clear() : to empty a dictionary\n",
    "2. copy() : to copy a dictionary\n",
    "3. setdefault() :\n",
    "4. get() : to get value stored for a key\n",
    "5. keys() : to return key from dictionary\n",
    "6. values(): to return values from a dictionary\n",
    "7. items(): To return key-value pairs \n",
    "8. update(): To update dictionary\n",
    "9. pop(): It returns the key and then vanishes a key-value pair from a dictionary\n",
    "10. popitem(): It vanished last key-value pair."
   ]
  },
  {
   "cell_type": "code",
   "execution_count": 22,
   "id": "cfc89d78",
   "metadata": {},
   "outputs": [
    {
     "name": "stdout",
     "output_type": "stream",
     "text": [
      "{1: 'Ankita', 2: 'Radhika', 3: 'Ansh', 4: 'Aaru', 5: 'Suman', 6: 'Jay'}\n",
      "{}\n",
      "{1: 'Ankita', 2: 'Radhika', 4: 'Aaru', 5: 'Suman', 6: 'Jay'}\n",
      "{1: 'Ankita', 2: 'Radhika', 4: 'Aaru', 5: 'Suman'}\n"
     ]
    }
   ],
   "source": [
    "Students ={\n",
    "    1:'Ankita',\n",
    "    2:'Radhika',\n",
    "    3:'Ansh',\n",
    "    4:'Aaru',\n",
    "    5:'Suman',\n",
    "    6:'Jay'\n",
    "}\n",
    "\n",
    "#Example 1\n",
    "Students_archive = Students.copy()\n",
    "print(Students_archive)\n",
    "#Example 2\n",
    "Students_archive.clear()\n",
    "print(Students_archive)\n",
    "#Example 3\n",
    "Students.pop(3)\n",
    "print(Students)\n",
    "#Example 4\n",
    "Students.popitem()\n",
    "print(Students)\n",
    "#Example 5"
   ]
  },
  {
   "cell_type": "markdown",
   "id": "c1c36d9f",
   "metadata": {},
   "source": [
    "#### => setdefault() Method"
   ]
  },
  {
   "cell_type": "markdown",
   "id": "5f878aed",
   "metadata": {},
   "source": [
    "setdefault() method of dictionary returns the value of the key passed in it. If key doesn't exist, it adds that key in dictionary. If you have passed value along with key, it will add entire key-value pair, else it will add just key with none value."
   ]
  },
  {
   "cell_type": "code",
   "execution_count": 14,
   "id": "5d85ef9f",
   "metadata": {},
   "outputs": [
    {
     "data": {
      "text/plain": [
       "'Haryana'"
      ]
     },
     "execution_count": 14,
     "metadata": {},
     "output_type": "execute_result"
    }
   ],
   "source": [
    "companies = {\"TCS\": \"Haryana\",\"Infosys\":\"Mumbai\",\"Cisco\" : \"Delhi\", \"Tiger\" : \"Bangluru\", \"Trends\" : \"Kolkata\"}\n",
    "#Example 1\n",
    "companies.setdefault(\"TCS\")"
   ]
  },
  {
   "cell_type": "code",
   "execution_count": 23,
   "id": "73b7ea90",
   "metadata": {},
   "outputs": [
    {
     "name": "stdout",
     "output_type": "stream",
     "text": [
      "Company TCS is located at Haryana\n",
      "Company Infosys is located at Mumbai\n",
      "Company Cisco is located at Delhi\n",
      "Company Tiger is located at Bangluru\n",
      "Company Trends is located at Kolkata\n",
      "Company P&W is located at None\n",
      "Company JP Morgan is located at California\n"
     ]
    }
   ],
   "source": [
    "#Example 2\n",
    "companies.setdefault(\"P&W\")\n",
    "for x,y in companies.items():\n",
    "    print(f\"Company {x} is located at {y}\")"
   ]
  },
  {
   "cell_type": "code",
   "execution_count": 24,
   "id": "2a5f5226",
   "metadata": {
    "scrolled": true
   },
   "outputs": [
    {
     "name": "stdout",
     "output_type": "stream",
     "text": [
      "Company TCS is located at Haryana\n",
      "Company Infosys is located at Mumbai\n",
      "Company Cisco is located at Delhi\n",
      "Company Tiger is located at Bangluru\n",
      "Company Trends is located at Kolkata\n",
      "Company P&W is located at None\n",
      "Company JP Morgan is located at California\n"
     ]
    }
   ],
   "source": [
    "#Example 3\n",
    "companies.setdefault(\"JP Morgan\",\"California\")\n",
    "for x,y in companies.items():\n",
    "    print(f\"Company {x} is located at {y}\")"
   ]
  },
  {
   "cell_type": "code",
   "execution_count": 21,
   "id": "6dfb5480",
   "metadata": {},
   "outputs": [
    {
     "name": "stdout",
     "output_type": "stream",
     "text": [
      "Chess Player\n"
     ]
    }
   ],
   "source": [
    "#Example 4:\n",
    "players={\n",
    "    \"Dyanchand\":\"Football Player\",\n",
    "    \"Magnus\":\"Chess Player\",\n",
    "    \"Sumit\":\"Vollyball Player\",\n",
    "    \"Virat\":\"Cricket Player\",\n",
    "}\n",
    "#Accesing \n",
    "print(players[\"Magnus\"])"
   ]
  },
  {
   "cell_type": "code",
   "execution_count": 25,
   "id": "3e869d18",
   "metadata": {},
   "outputs": [],
   "source": [
    "#Updating Players \n",
    "players.update({\"Shivani\":\"Candy Crush\"})\n",
    "print(players[\"Shivani\"])"
   ]
  },
  {
   "cell_type": "code",
   "execution_count": 27,
   "id": "9b8bf730",
   "metadata": {},
   "outputs": [
    {
     "data": {
      "text/plain": [
       "'Candy Crush'"
      ]
     },
     "execution_count": 27,
     "metadata": {},
     "output_type": "execute_result"
    }
   ],
   "source": [
    "#setdefault()\n",
    "players.setdefault(\"Shivani\")"
   ]
  },
  {
   "cell_type": "code",
   "execution_count": 28,
   "id": "3cc4d38d",
   "metadata": {},
   "outputs": [
    {
     "data": {
      "text/plain": [
       "'Vollyball Player'"
      ]
     },
     "execution_count": 28,
     "metadata": {},
     "output_type": "execute_result"
    }
   ],
   "source": [
    "#pop()\n",
    "players.pop(\"Sumit\")"
   ]
  },
  {
   "cell_type": "code",
   "execution_count": 29,
   "id": "f8398c4d",
   "metadata": {},
   "outputs": [
    {
     "name": "stdout",
     "output_type": "stream",
     "text": [
      "Dyanchand plays Football Player\n",
      "Magnus plays Chess Player\n",
      "Virat plays Cricket Player\n",
      "Shivani plays Candy Crush\n"
     ]
    }
   ],
   "source": [
    "for i,j in players.items():\n",
    "    print(f\"{i} plays {j}\")"
   ]
  },
  {
   "cell_type": "markdown",
   "id": "7281d6e6",
   "metadata": {},
   "source": [
    "#Tried by shivani "
   ]
  },
  {
   "cell_type": "code",
   "execution_count": 32,
   "id": "cc6b3b9f",
   "metadata": {},
   "outputs": [
    {
     "name": "stdout",
     "output_type": "stream",
     "text": [
      "{'shivani': 89, 'sheetal': 100, 'om': 99, 'Shiv': 88, 'Aman': 98}\n"
     ]
    }
   ],
   "source": [
    "phone_No = {\n",
    "    \"shivani\" : 89,\n",
    "    \"sheetal\" : 100,\n",
    "    \"om\"      : 99,\n",
    "    \"Shiv\"     : 88,\n",
    "    \"Aman\"     : 98\n",
    "} \n",
    "print(phone_No)"
   ]
  },
  {
   "cell_type": "code",
   "execution_count": 33,
   "id": "6b82a11d",
   "metadata": {},
   "outputs": [],
   "source": [
    "phone_No.update({\"shiv\" : 101})"
   ]
  },
  {
   "cell_type": "code",
   "execution_count": 34,
   "id": "222e1624",
   "metadata": {},
   "outputs": [
    {
     "name": "stdout",
     "output_type": "stream",
     "text": [
      "{'shivani': 89, 'sheetal': 100, 'om': 99, 'Shiv': 88, 'Aman': 98, 'shiv': 101}\n"
     ]
    }
   ],
   "source": [
    "print(phone_No)"
   ]
  },
  {
   "cell_type": "code",
   "execution_count": 35,
   "id": "8916860d",
   "metadata": {},
   "outputs": [
    {
     "name": "stdout",
     "output_type": "stream",
     "text": [
      "{'shivani': 89, 'sheetal': 100, 'om': 99, 'Shiv': 88, 'Aman': 98, 'shiv': 19}\n"
     ]
    }
   ],
   "source": [
    "phone_No[\"shiv\"]=19\n",
    "print(phone_No)"
   ]
  },
  {
   "cell_type": "code",
   "execution_count": 36,
   "id": "cdea15e5",
   "metadata": {},
   "outputs": [
    {
     "name": "stdout",
     "output_type": "stream",
     "text": [
      "{'shivani': 101, 'sheetal': 100, 'om': 99, 'Shiv': 88, 'Aman': 98, 'shiv': 19}\n"
     ]
    }
   ],
   "source": [
    "phone_No[\"shivani\"]= 101\n",
    "print(phone_No)"
   ]
  },
  {
   "cell_type": "code",
   "execution_count": 38,
   "id": "fc379322",
   "metadata": {},
   "outputs": [
    {
     "data": {
      "text/plain": [
       "('shiv', 19)"
      ]
     },
     "execution_count": 38,
     "metadata": {},
     "output_type": "execute_result"
    }
   ],
   "source": [
    "phone_No.popitem()"
   ]
  },
  {
   "cell_type": "code",
   "execution_count": 39,
   "id": "0ed5acd6",
   "metadata": {},
   "outputs": [
    {
     "name": "stdout",
     "output_type": "stream",
     "text": [
      "{'shivani': 101, 'sheetal': 100, 'om': 99, 'Shiv': 88, 'Aman': 98}\n"
     ]
    }
   ],
   "source": [
    "print(phone_No)"
   ]
  },
  {
   "cell_type": "code",
   "execution_count": 40,
   "id": "7718be90",
   "metadata": {},
   "outputs": [
    {
     "data": {
      "text/plain": [
       "99"
      ]
     },
     "execution_count": 40,
     "metadata": {},
     "output_type": "execute_result"
    }
   ],
   "source": [
    "phone_No.pop(\"om\")"
   ]
  },
  {
   "cell_type": "code",
   "execution_count": 41,
   "id": "634d7558",
   "metadata": {},
   "outputs": [
    {
     "name": "stdout",
     "output_type": "stream",
     "text": [
      "{'shivani': 101, 'sheetal': 100, 'Shiv': 88, 'Aman': 98}\n"
     ]
    }
   ],
   "source": [
    "print(phone_No)"
   ]
  },
  {
   "cell_type": "code",
   "execution_count": 43,
   "id": "53c689e7",
   "metadata": {},
   "outputs": [
    {
     "name": "stdout",
     "output_type": "stream",
     "text": [
      "shivani has gotten 101\n",
      "sheetal has gotten 100\n",
      "Shiv has gotten 88\n",
      "Aman has gotten 98\n"
     ]
    }
   ],
   "source": [
    "for x,y in phone_No.items():\n",
    "    print(f\"{x} has gotten {y}\")"
   ]
  },
  {
   "cell_type": "code",
   "execution_count": 49,
   "id": "b29fbfdc",
   "metadata": {},
   "outputs": [],
   "source": [
    "no = {\n",
    "    \"a\" : 10,\n",
    "    \"b\" : 20,\n",
    "    \"c\"  :30\n",
    "}"
   ]
  },
  {
   "cell_type": "code",
   "execution_count": 50,
   "id": "23c16fd4",
   "metadata": {},
   "outputs": [
    {
     "name": "stdout",
     "output_type": "stream",
     "text": [
      "a = 10\n",
      "b = 20\n",
      "c = 30\n"
     ]
    }
   ],
   "source": [
    "for x,y in no.items():\n",
    "    print(f\"{x} = {y}\")"
   ]
  },
  {
   "cell_type": "code",
   "execution_count": 51,
   "id": "83dd27ed",
   "metadata": {},
   "outputs": [],
   "source": [
    " num1 = no.copy()"
   ]
  },
  {
   "cell_type": "code",
   "execution_count": 52,
   "id": "be7967dd",
   "metadata": {},
   "outputs": [
    {
     "name": "stdout",
     "output_type": "stream",
     "text": [
      "{'a': 10, 'b': 20, 'c': 30}\n"
     ]
    }
   ],
   "source": [
    "print(num1)"
   ]
  },
  {
   "cell_type": "code",
   "execution_count": 56,
   "id": "e7f9dda9",
   "metadata": {},
   "outputs": [
    {
     "name": "stdout",
     "output_type": "stream",
     "text": [
      "10\n"
     ]
    }
   ],
   "source": [
    "\n",
    "print(num1.get(\"a\"))"
   ]
  },
  {
   "cell_type": "code",
   "execution_count": 60,
   "id": "566dd827",
   "metadata": {},
   "outputs": [
    {
     "name": "stdout",
     "output_type": "stream",
     "text": [
      "a\n",
      "b\n",
      "c\n"
     ]
    }
   ],
   "source": [
    "for x in no.keys():\n",
    "    print(x)"
   ]
  },
  {
   "cell_type": "code",
   "execution_count": 3,
   "id": "a4af79d6",
   "metadata": {},
   "outputs": [],
   "source": [
    "dict1={}\n",
    "dict1[\"S\"]=2\n",
    "dict1[\"M\"]=2\n",
    "dict1[\"S\"]=dict1[\"S\"]+2\n",
    "dict1[\"L\"]=2\n",
    "dict1[\"S\"]=dict1[\"S\"]+2\n",
    "dict1[\"K\"]=8\n",
    "dict1[\"S\"]=dict1[\"S\"]+2\n"
   ]
  },
  {
   "cell_type": "code",
   "execution_count": 4,
   "id": "9e5804bd",
   "metadata": {},
   "outputs": [
    {
     "data": {
      "text/plain": [
       "{'S': 8, 'M': 2, 'L': 2, 'K': 5}"
      ]
     },
     "execution_count": 4,
     "metadata": {},
     "output_type": "execute_result"
    }
   ],
   "source": [
    "dict1"
   ]
  },
  {
   "cell_type": "code",
   "execution_count": 6,
   "id": "e7e1877d",
   "metadata": {},
   "outputs": [
    {
     "name": "stdout",
     "output_type": "stream",
     "text": [
      "False\n"
     ]
    }
   ],
   "source": [
    "print( 8 in dict1)"
   ]
  },
  {
   "cell_type": "code",
   "execution_count": 13,
   "id": "56f0ada8",
   "metadata": {},
   "outputs": [
    {
     "ename": "AttributeError",
     "evalue": "type object 'dict' has no attribute 'count'",
     "output_type": "error",
     "traceback": [
      "\u001b[1;31m---------------------------------------------------------------------------\u001b[0m",
      "\u001b[1;31mAttributeError\u001b[0m                            Traceback (most recent call last)",
      "Cell \u001b[1;32mIn[13], line 1\u001b[0m\n\u001b[1;32m----> 1\u001b[0m count\u001b[38;5;241m=\u001b[39m\u001b[38;5;28mdict\u001b[39m\u001b[38;5;241m.\u001b[39mcount(\u001b[38;5;28mmax\u001b[39m(dict1\u001b[38;5;241m.\u001b[39mvalues()))\n",
      "\u001b[1;31mAttributeError\u001b[0m: type object 'dict' has no attribute 'count'"
     ]
    }
   ],
   "source": []
  },
  {
   "cell_type": "code",
   "execution_count": 12,
   "id": "4f05fcd4",
   "metadata": {},
   "outputs": [
    {
     "name": "stdout",
     "output_type": "stream",
     "text": [
      "None\n"
     ]
    }
   ],
   "source": [
    "print(dict1.get(8))"
   ]
  },
  {
   "cell_type": "code",
   "execution_count": null,
   "id": "1856318a",
   "metadata": {},
   "outputs": [],
   "source": [
    "def max_frequency_word_counter(data):\n",
    "    word=\"\"\n",
    "    frequency=0\n",
    "    dummy_data=data.split()\n",
    "    ans={}\n",
    "    #start writing your code here\n",
    "    while len(dummy_data)!=0:\n",
    "        Key=dummy_data[0]\n",
    "        for j in dummy_data:\n",
    "            if j==Key:\n",
    "                frequency=frequency+1\n",
    "                dummy_data.remove(j)\n",
    "        ans[key]=frequency\n",
    "        frequency=0\n",
    "        \n",
    "    #Populate the variables: word and frequency\n",
    "\n",
    "\n",
    "    # Use the below given print statements to display the output\n",
    "    # Also, do not modify them for verification to work\n",
    "    #print(word,frequency)\n",
    "\n",
    "\n",
    "#Provide different values for data and test your program.\n",
    "data=\"Work like you do not need money, love like you have never been hurt, and dance like no one is watching\"\n",
    "max_frequency_word_counter(data)"
   ]
  },
  {
   "cell_type": "code",
   "execution_count": null,
   "id": "a954f6ec",
   "metadata": {},
   "outputs": [],
   "source": []
  }
 ],
 "metadata": {
  "kernelspec": {
   "display_name": "Python 3 (ipykernel)",
   "language": "python",
   "name": "python3"
  },
  "language_info": {
   "codemirror_mode": {
    "name": "ipython",
    "version": 3
   },
   "file_extension": ".py",
   "mimetype": "text/x-python",
   "name": "python",
   "nbconvert_exporter": "python",
   "pygments_lexer": "ipython3",
   "version": "3.11.4"
  }
 },
 "nbformat": 4,
 "nbformat_minor": 5
}
